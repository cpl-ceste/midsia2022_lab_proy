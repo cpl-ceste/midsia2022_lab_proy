{
 "cells": [
  {
   "cell_type": "code",
   "execution_count": 1,
   "id": "4cefe768",
   "metadata": {
    "_cell_guid": "b1076dfc-b9ad-4769-8c92-a6c4dae69d19",
    "_uuid": "8f2839f25d086af736a60e9eeb907d3b93b6e0e5",
    "execution": {
     "iopub.execute_input": "2022-06-28T19:49:23.943853Z",
     "iopub.status.busy": "2022-06-28T19:49:23.943447Z",
     "iopub.status.idle": "2022-06-28T19:49:38.052040Z",
     "shell.execute_reply": "2022-06-28T19:49:38.050719Z"
    },
    "papermill": {
     "duration": 14.134557,
     "end_time": "2022-06-28T19:49:38.055149",
     "exception": false,
     "start_time": "2022-06-28T19:49:23.920592",
     "status": "completed"
    },
    "tags": []
   },
   "outputs": [],
   "source": [
    "# importing libraries and data\n",
    "\n",
    "import pandas as pd\n",
    "from sklearn.model_selection import train_test_split\n",
    "import matplotlib.pyplot as plt\n",
    "import numpy as np\n",
    "import tensorflow as tf\n",
    "from tensorflow import keras\n",
    "from tensorflow.keras.models import Sequential\n",
    "from tensorflow.keras.layers import Conv2D\n",
    "from tensorflow.keras.layers import MaxPooling2D\n",
    "from tensorflow.keras.layers import Dense\n",
    "from tensorflow.keras.layers import Flatten\n",
    "from tensorflow.keras.optimizers import RMSprop\n",
    "from keras.preprocessing.image import ImageDataGenerator\n",
    "from keras.callbacks import ReduceLROnPlateau\n",
    "\n",
    "\n",
    "training_data = pd.read_csv('/kaggle/input/digit-recognizer/train.csv')\n",
    "testing_data = pd.read_csv(\"/kaggle/input/digit-recognizer/test.csv\")"
   ]
  },
  {
   "cell_type": "code",
   "execution_count": 2,
   "id": "63efd5fb",
   "metadata": {
    "execution": {
     "iopub.execute_input": "2022-06-28T19:49:38.098684Z",
     "iopub.status.busy": "2022-06-28T19:49:38.098358Z",
     "iopub.status.idle": "2022-06-28T19:49:38.191062Z",
     "shell.execute_reply": "2022-06-28T19:49:38.189829Z"
    },
    "papermill": {
     "duration": 0.118325,
     "end_time": "2022-06-28T19:49:38.194102",
     "exception": false,
     "start_time": "2022-06-28T19:49:38.075777",
     "status": "completed"
    },
    "tags": []
   },
   "outputs": [
    {
     "name": "stdout",
     "output_type": "stream",
     "text": [
      "Nulls in training: 0\n",
      "Nulls in validation: 0\n"
     ]
    }
   ],
   "source": [
    "# checking for nulls\n",
    "\n",
    "training = training_data.isnull().sum().sum()\n",
    "print(f\"Nulls in training: {training}\")\n",
    "\n",
    "validation = testing_data.isnull().sum().sum()\n",
    "print(f\"Nulls in validation: {validation}\")"
   ]
  },
  {
   "cell_type": "code",
   "execution_count": 3,
   "id": "495f1e0b",
   "metadata": {
    "execution": {
     "iopub.execute_input": "2022-06-28T19:49:38.237443Z",
     "iopub.status.busy": "2022-06-28T19:49:38.237090Z",
     "iopub.status.idle": "2022-06-28T19:49:38.247987Z",
     "shell.execute_reply": "2022-06-28T19:49:38.247014Z"
    },
    "papermill": {
     "duration": 0.034797,
     "end_time": "2022-06-28T19:49:38.250027",
     "exception": false,
     "start_time": "2022-06-28T19:49:38.215230",
     "status": "completed"
    },
    "tags": []
   },
   "outputs": [
    {
     "data": {
      "text/plain": [
       "((42000, 784), (42000,))"
      ]
     },
     "execution_count": 3,
     "metadata": {},
     "output_type": "execute_result"
    }
   ],
   "source": [
    "# separate x and y for test and train data\n",
    "\n",
    "train_X = training_data.iloc[: , 1:]\n",
    "\n",
    "train_Y = training_data.iloc[:,0]\n",
    "\n",
    "test_X = testing_data\n",
    "\n",
    "train_X.shape, train_Y.shape\n"
   ]
  },
  {
   "cell_type": "code",
   "execution_count": 4,
   "id": "d16f528a",
   "metadata": {
    "execution": {
     "iopub.execute_input": "2022-06-28T19:49:38.295746Z",
     "iopub.status.busy": "2022-06-28T19:49:38.295442Z",
     "iopub.status.idle": "2022-06-28T19:49:38.429756Z",
     "shell.execute_reply": "2022-06-28T19:49:38.428737Z"
    },
    "papermill": {
     "duration": 0.160351,
     "end_time": "2022-06-28T19:49:38.432601",
     "exception": false,
     "start_time": "2022-06-28T19:49:38.272250",
     "status": "completed"
    },
    "tags": []
   },
   "outputs": [],
   "source": [
    "# data normalization\n",
    "\n",
    "train_X = train_X / 255.0\n",
    "test_X = test_X / 255.0"
   ]
  },
  {
   "cell_type": "code",
   "execution_count": 5,
   "id": "b783c2b3",
   "metadata": {
    "execution": {
     "iopub.execute_input": "2022-06-28T19:49:38.476531Z",
     "iopub.status.busy": "2022-06-28T19:49:38.475757Z",
     "iopub.status.idle": "2022-06-28T19:49:38.484679Z",
     "shell.execute_reply": "2022-06-28T19:49:38.483628Z"
    },
    "papermill": {
     "duration": 0.033654,
     "end_time": "2022-06-28T19:49:38.487174",
     "exception": false,
     "start_time": "2022-06-28T19:49:38.453520",
     "status": "completed"
    },
    "tags": []
   },
   "outputs": [
    {
     "data": {
      "text/plain": [
       "((42000, 28, 28, 1), (28000, 28, 28, 1))"
      ]
     },
     "execution_count": 5,
     "metadata": {},
     "output_type": "execute_result"
    }
   ],
   "source": [
    "# reshape data\n",
    "\n",
    "train_X = train_X.values.reshape(-1, 28, 28, 1)\n",
    "test_X = test_X.values.reshape(-1, 28, 28, 1)\n",
    "\n",
    "train_X.shape, test_X.shape"
   ]
  },
  {
   "cell_type": "code",
   "execution_count": 6,
   "id": "4a6f9ca7",
   "metadata": {
    "execution": {
     "iopub.execute_input": "2022-06-28T19:49:38.531086Z",
     "iopub.status.busy": "2022-06-28T19:49:38.530804Z",
     "iopub.status.idle": "2022-06-28T19:49:38.974433Z",
     "shell.execute_reply": "2022-06-28T19:49:38.973427Z"
    },
    "papermill": {
     "duration": 0.46763,
     "end_time": "2022-06-28T19:49:38.976620",
     "exception": false,
     "start_time": "2022-06-28T19:49:38.508990",
     "status": "completed"
    },
    "tags": []
   },
   "outputs": [
    {
     "data": {
      "text/plain": [
       "((37800, 28, 28, 1), (4200, 28, 28, 1), (37800,), (4200,))"
      ]
     },
     "execution_count": 6,
     "metadata": {},
     "output_type": "execute_result"
    }
   ],
   "source": [
    "# split data into train and test slices\n",
    "\n",
    "train_X, val_X, train_Y, val_Y = train_test_split(train_X, train_Y, test_size=0.1)\n",
    "\n",
    "train_X.shape, val_X.shape, train_Y.shape, val_Y.shape"
   ]
  },
  {
   "cell_type": "code",
   "execution_count": 7,
   "id": "9aaedd88",
   "metadata": {
    "execution": {
     "iopub.execute_input": "2022-06-28T19:49:39.021156Z",
     "iopub.status.busy": "2022-06-28T19:49:39.020812Z",
     "iopub.status.idle": "2022-06-28T19:49:39.029676Z",
     "shell.execute_reply": "2022-06-28T19:49:39.028716Z"
    },
    "papermill": {
     "duration": 0.034068,
     "end_time": "2022-06-28T19:49:39.031687",
     "exception": false,
     "start_time": "2022-06-28T19:49:38.997619",
     "status": "completed"
    },
    "tags": []
   },
   "outputs": [
    {
     "data": {
      "text/plain": [
       "((37800, 10), (4200, 10))"
      ]
     },
     "execution_count": 7,
     "metadata": {},
     "output_type": "execute_result"
    }
   ],
   "source": [
    "# one hot encoding\n",
    "\n",
    "train_Y = keras.utils.to_categorical(train_Y, num_classes=10)\n",
    "val_Y = keras.utils.to_categorical(val_Y, num_classes=10)\n",
    "\n",
    "train_Y.shape, val_Y.shape"
   ]
  },
  {
   "cell_type": "code",
   "execution_count": 8,
   "id": "c5a11eab",
   "metadata": {
    "execution": {
     "iopub.execute_input": "2022-06-28T19:49:39.078170Z",
     "iopub.status.busy": "2022-06-28T19:49:39.076996Z",
     "iopub.status.idle": "2022-06-28T19:49:39.085655Z",
     "shell.execute_reply": "2022-06-28T19:49:39.084561Z"
    },
    "papermill": {
     "duration": 0.034097,
     "end_time": "2022-06-28T19:49:39.088129",
     "exception": false,
     "start_time": "2022-06-28T19:49:39.054032",
     "status": "completed"
    },
    "tags": []
   },
   "outputs": [],
   "source": [
    "# defining plotting functions\n",
    "\n",
    "def show_train_number(idx):\n",
    "  plt.imshow(train_X[idx].reshape(28, 28))  # (rows, columns)\n",
    "  plt.title(f\"Digit: {np.where(train_Y[idx] == np.amax(train_Y[idx]))[0]}\")\n",
    "  plt.show() \n",
    "\n",
    "def show_val_number(idx):\n",
    "  plt.imshow(val_X[idx].reshape(28, 28))  # (rows, columns)\n",
    "  plt.title(f\"Digit: {np.where(val_Y[idx] == np.amax(val_Y[idx]))[0]}\")\n",
    "  plt.show() \n",
    "\n",
    "def show_testing_data(idx):\n",
    "  plt.imshow(testing_data[idx].reshape(28, 28))  # (rows, columns)\n",
    "  plt.show()"
   ]
  },
  {
   "cell_type": "code",
   "execution_count": 9,
   "id": "0c9647fc",
   "metadata": {
    "execution": {
     "iopub.execute_input": "2022-06-28T19:49:39.135285Z",
     "iopub.status.busy": "2022-06-28T19:49:39.135002Z",
     "iopub.status.idle": "2022-06-28T19:49:39.235490Z",
     "shell.execute_reply": "2022-06-28T19:49:39.234483Z"
    },
    "papermill": {
     "duration": 0.128175,
     "end_time": "2022-06-28T19:49:39.238142",
     "exception": false,
     "start_time": "2022-06-28T19:49:39.109967",
     "status": "completed"
    },
    "tags": []
   },
   "outputs": [],
   "source": [
    "# data augmentation\n",
    "\n",
    "datagen = ImageDataGenerator(zoom_range = 0.1,\n",
    "                             height_shift_range = 0.1,\n",
    "                             width_shift_range = 0.1,\n",
    "                             rotation_range = 10)\n",
    "    \n",
    "datagen.fit(train_X)"
   ]
  },
  {
   "cell_type": "code",
   "execution_count": 10,
   "id": "7d2e5192",
   "metadata": {
    "execution": {
     "iopub.execute_input": "2022-06-28T19:49:39.286921Z",
     "iopub.status.busy": "2022-06-28T19:49:39.286635Z",
     "iopub.status.idle": "2022-06-28T19:49:39.302521Z",
     "shell.execute_reply": "2022-06-28T19:49:39.301407Z"
    },
    "papermill": {
     "duration": 0.042873,
     "end_time": "2022-06-28T19:49:39.304794",
     "exception": false,
     "start_time": "2022-06-28T19:49:39.261921",
     "status": "completed"
    },
    "tags": []
   },
   "outputs": [],
   "source": [
    "# model initialization\n",
    "\n",
    "def convolutional_model():\n",
    "    input_img = tf.keras.Input(shape=(28,28,1))\n",
    "    Z1 = tf.keras.layers.Conv2D(filters = 32, kernel_size = (5,5), strides=(1, 1), padding='same')(input_img)\n",
    "    Z1 = tf.keras.layers.BatchNormalization(axis = 3) (Z1, training = True)\n",
    "    A1 = tf.keras.layers.ReLU()(Z1)\n",
    "    P1 = tf.keras.layers.MaxPool2D(pool_size = (2,2), strides = 2, padding = 'same')(A1)\n",
    "    DO1 = tf.keras.layers.Dropout(0.1)(P1)\n",
    "    \n",
    "    Z2 = tf.keras.layers.Conv2D(filters = 32, kernel_size = (3,3), strides=(1, 1), padding='same')(DO1)\n",
    "    Z2 = tf.keras.layers.BatchNormalization(axis = 3) (Z2, training = True)\n",
    "    A2 = tf.keras.layers.ReLU()(Z2)\n",
    "    P2 = tf.keras.layers.MaxPool2D(pool_size = (2,2), strides = 2, padding = 'same')(A2)\n",
    "    DO2 = tf.keras.layers.Dropout(0.1)(P2)\n",
    "    \n",
    "    Z3 = tf.keras.layers.Conv2D(filters = 64, kernel_size = (3,3), strides=(1, 1), padding='same')(DO2)\n",
    "    Z3 = tf.keras.layers.BatchNormalization(axis = 3) (Z3, training = True)\n",
    "    A3 = tf.keras.layers.ReLU()(Z3)\n",
    "    P3 = tf.keras.layers.MaxPool2D(pool_size = (2,2), strides = 2, padding = 'same')(A3)\n",
    "    DO3 = tf.keras.layers.Dropout(0.1)(P3)\n",
    "    \n",
    "    F1 = tf.keras.layers.Flatten()(DO3)\n",
    "    D1 = tf.keras.layers.Dense(256, activation='relu')(F1)\n",
    "    DO4 = tf.keras.layers.Dropout(0.1)(D1)\n",
    "    \n",
    "    F = tf.keras.layers.Flatten()(DO4)\n",
    "    \n",
    "    outputs = tf.keras.layers.Dense(units = 10, activation = 'softmax') (F)\n",
    "    \n",
    "    model = tf.keras.Model(inputs=input_img, outputs=outputs)\n",
    "    return model"
   ]
  },
  {
   "cell_type": "code",
   "execution_count": 11,
   "id": "87cf3103",
   "metadata": {
    "execution": {
     "iopub.execute_input": "2022-06-28T19:49:39.349535Z",
     "iopub.status.busy": "2022-06-28T19:49:39.349095Z",
     "iopub.status.idle": "2022-06-28T19:49:39.584738Z",
     "shell.execute_reply": "2022-06-28T19:49:39.582956Z"
    },
    "papermill": {
     "duration": 0.261453,
     "end_time": "2022-06-28T19:49:39.587688",
     "exception": false,
     "start_time": "2022-06-28T19:49:39.326235",
     "status": "completed"
    },
    "tags": []
   },
   "outputs": [
    {
     "name": "stdout",
     "output_type": "stream",
     "text": [
      "Model: \"model\"\n",
      "_________________________________________________________________\n",
      "Layer (type)                 Output Shape              Param #   \n",
      "=================================================================\n",
      "input_1 (InputLayer)         [(None, 28, 28, 1)]       0         \n",
      "_________________________________________________________________\n",
      "conv2d (Conv2D)              (None, 28, 28, 32)        832       \n",
      "_________________________________________________________________\n",
      "batch_normalization (BatchNo (None, 28, 28, 32)        128       \n",
      "_________________________________________________________________\n",
      "re_lu (ReLU)                 (None, 28, 28, 32)        0         \n",
      "_________________________________________________________________\n",
      "max_pooling2d (MaxPooling2D) (None, 14, 14, 32)        0         \n",
      "_________________________________________________________________\n",
      "dropout (Dropout)            (None, 14, 14, 32)        0         \n",
      "_________________________________________________________________\n",
      "conv2d_1 (Conv2D)            (None, 14, 14, 32)        9248      \n",
      "_________________________________________________________________\n",
      "batch_normalization_1 (Batch (None, 14, 14, 32)        128       \n",
      "_________________________________________________________________\n",
      "re_lu_1 (ReLU)               (None, 14, 14, 32)        0         \n",
      "_________________________________________________________________\n",
      "max_pooling2d_1 (MaxPooling2 (None, 7, 7, 32)          0         \n",
      "_________________________________________________________________\n",
      "dropout_1 (Dropout)          (None, 7, 7, 32)          0         \n",
      "_________________________________________________________________\n",
      "conv2d_2 (Conv2D)            (None, 7, 7, 64)          18496     \n",
      "_________________________________________________________________\n",
      "batch_normalization_2 (Batch (None, 7, 7, 64)          256       \n",
      "_________________________________________________________________\n",
      "re_lu_2 (ReLU)               (None, 7, 7, 64)          0         \n",
      "_________________________________________________________________\n",
      "max_pooling2d_2 (MaxPooling2 (None, 4, 4, 64)          0         \n",
      "_________________________________________________________________\n",
      "dropout_2 (Dropout)          (None, 4, 4, 64)          0         \n",
      "_________________________________________________________________\n",
      "flatten (Flatten)            (None, 1024)              0         \n",
      "_________________________________________________________________\n",
      "dense (Dense)                (None, 256)               262400    \n",
      "_________________________________________________________________\n",
      "dropout_3 (Dropout)          (None, 256)               0         \n",
      "_________________________________________________________________\n",
      "flatten_1 (Flatten)          (None, 256)               0         \n",
      "_________________________________________________________________\n",
      "dense_1 (Dense)              (None, 10)                2570      \n",
      "=================================================================\n",
      "Total params: 294,058\n",
      "Trainable params: 293,802\n",
      "Non-trainable params: 256\n",
      "_________________________________________________________________\n"
     ]
    },
    {
     "name": "stderr",
     "output_type": "stream",
     "text": [
      "2022-06-28 19:49:39.404686: I tensorflow/core/common_runtime/process_util.cc:146] Creating new thread pool with default inter op setting: 2. Tune using inter_op_parallelism_threads for best performance.\n"
     ]
    }
   ],
   "source": [
    "model = convolutional_model()\n",
    "model.compile(optimizer='adam',\n",
    "                  loss='categorical_crossentropy',\n",
    "                  metrics=['accuracy'])\n",
    "model.summary()"
   ]
  },
  {
   "cell_type": "code",
   "execution_count": 12,
   "id": "c65d224c",
   "metadata": {
    "execution": {
     "iopub.execute_input": "2022-06-28T19:49:39.635718Z",
     "iopub.status.busy": "2022-06-28T19:49:39.635381Z",
     "iopub.status.idle": "2022-06-28T20:01:12.891827Z",
     "shell.execute_reply": "2022-06-28T20:01:12.890564Z"
    },
    "papermill": {
     "duration": 694.51889,
     "end_time": "2022-06-28T20:01:14.130421",
     "exception": false,
     "start_time": "2022-06-28T19:49:39.611531",
     "status": "completed"
    },
    "tags": []
   },
   "outputs": [
    {
     "name": "stderr",
     "output_type": "stream",
     "text": [
      "2022-06-28 19:49:39.818086: I tensorflow/compiler/mlir/mlir_graph_optimization_pass.cc:185] None of the MLIR Optimization Passes are enabled (registered 2)\n"
     ]
    },
    {
     "name": "stdout",
     "output_type": "stream",
     "text": [
      "Epoch 1/30\n",
      "1182/1182 [==============================] - 41s 34ms/step - loss: 0.3086 - accuracy: 0.8998 - val_loss: 0.0711 - val_accuracy: 0.9755\n",
      "Epoch 2/30\n",
      "1182/1182 [==============================] - 40s 34ms/step - loss: 0.1129 - accuracy: 0.9637 - val_loss: 0.0635 - val_accuracy: 0.9819\n",
      "Epoch 3/30\n",
      "1182/1182 [==============================] - 39s 33ms/step - loss: 0.0884 - accuracy: 0.9721 - val_loss: 0.0330 - val_accuracy: 0.9905\n",
      "Epoch 4/30\n",
      "1182/1182 [==============================] - 40s 34ms/step - loss: 0.0775 - accuracy: 0.9771 - val_loss: 0.0337 - val_accuracy: 0.9883\n",
      "Epoch 5/30\n",
      "1182/1182 [==============================] - 39s 33ms/step - loss: 0.0694 - accuracy: 0.9781 - val_loss: 0.0409 - val_accuracy: 0.9876\n",
      "Epoch 6/30\n",
      "1182/1182 [==============================] - 40s 34ms/step - loss: 0.0627 - accuracy: 0.9806 - val_loss: 0.0293 - val_accuracy: 0.9917\n",
      "Epoch 7/30\n",
      "1182/1182 [==============================] - 39s 33ms/step - loss: 0.0575 - accuracy: 0.9829 - val_loss: 0.0278 - val_accuracy: 0.9907\n",
      "Epoch 8/30\n",
      "1182/1182 [==============================] - 40s 34ms/step - loss: 0.0528 - accuracy: 0.9836 - val_loss: 0.0363 - val_accuracy: 0.9890\n",
      "Epoch 9/30\n",
      "1182/1182 [==============================] - 40s 34ms/step - loss: 0.0490 - accuracy: 0.9848 - val_loss: 0.0384 - val_accuracy: 0.9876\n",
      "Epoch 10/30\n",
      "1182/1182 [==============================] - 40s 34ms/step - loss: 0.0456 - accuracy: 0.9858 - val_loss: 0.0328 - val_accuracy: 0.9917\n",
      "Epoch 11/30\n",
      "1182/1182 [==============================] - 40s 34ms/step - loss: 0.0434 - accuracy: 0.9864 - val_loss: 0.0221 - val_accuracy: 0.9924\n",
      "Epoch 12/30\n",
      "1182/1182 [==============================] - 40s 34ms/step - loss: 0.0400 - accuracy: 0.9879 - val_loss: 0.0266 - val_accuracy: 0.9924\n",
      "Epoch 13/30\n",
      "1182/1182 [==============================] - 42s 36ms/step - loss: 0.0399 - accuracy: 0.9872 - val_loss: 0.0302 - val_accuracy: 0.9917\n",
      "Epoch 14/30\n",
      "1182/1182 [==============================] - 42s 35ms/step - loss: 0.0371 - accuracy: 0.9891 - val_loss: 0.0281 - val_accuracy: 0.9917\n",
      "Epoch 15/30\n",
      "1182/1182 [==============================] - 41s 35ms/step - loss: 0.0380 - accuracy: 0.9888 - val_loss: 0.0309 - val_accuracy: 0.9917\n"
     ]
    }
   ],
   "source": [
    "# initiate early stopping to prevent overfitting\n",
    "\n",
    "early_stopping = keras.callbacks.EarlyStopping(\n",
    "    patience=4,\n",
    "    min_delta=0.001,\n",
    "    restore_best_weights=True,\n",
    ")\n",
    "\n",
    "history = model.fit(datagen.flow(train_X, train_Y),\n",
    "                         epochs=30,\n",
    "                         validation_data=(val_X, val_Y),\n",
    "                         batch_size=128,\n",
    "                         callbacks=[early_stopping])"
   ]
  },
  {
   "cell_type": "code",
   "execution_count": 13,
   "id": "8ac659ba",
   "metadata": {
    "execution": {
     "iopub.execute_input": "2022-06-28T20:01:20.952876Z",
     "iopub.status.busy": "2022-06-28T20:01:20.952384Z",
     "iopub.status.idle": "2022-06-28T20:01:54.928374Z",
     "shell.execute_reply": "2022-06-28T20:01:54.927276Z"
    },
    "papermill": {
     "duration": 40.787676,
     "end_time": "2022-06-28T20:01:58.290616",
     "exception": false,
     "start_time": "2022-06-28T20:01:17.502940",
     "status": "completed"
    },
    "tags": []
   },
   "outputs": [
    {
     "name": "stdout",
     "output_type": "stream",
     "text": [
      "Expected digit: [2]\n",
      "Prediction: [2]\n"
     ]
    },
    {
     "data": {
      "image/png": "[encoded data removed]",
      "text/plain": [
       "<Figure size 432x288 with 1 Axes>"
      ]
     },
     "metadata": {
      "needs_background": "light"
     },
     "output_type": "display_data"
    }
   ],
   "source": [
    "# testing with one element of the dataset\n",
    "\n",
    "valIdx = 25;\n",
    "\n",
    "output = model.predict(val_X)[valIdx]\n",
    "\n",
    "# converting model output into a single value\n",
    "res = np.where(output == np.amax(output))\n",
    "\n",
    "# converting hotmap array into a single value\n",
    "expected = np.where(val_Y[valIdx] == np.amax(val_Y[valIdx]))\n",
    "\n",
    "print(f\"Expected digit: {expected[0]}\")\n",
    "print(f\"Prediction: {res[0]}\")\n",
    "show_val_number(valIdx)"
   ]
  },
  {
   "cell_type": "code",
   "execution_count": 14,
   "id": "bf2f7cf3",
   "metadata": {
    "execution": {
     "iopub.execute_input": "2022-06-28T20:02:05.102310Z",
     "iopub.status.busy": "2022-06-28T20:02:05.101674Z",
     "iopub.status.idle": "2022-06-28T20:02:06.808383Z",
     "shell.execute_reply": "2022-06-28T20:02:06.807296Z"
    },
    "papermill": {
     "duration": 5.121818,
     "end_time": "2022-06-28T20:02:06.810705",
     "exception": false,
     "start_time": "2022-06-28T20:02:01.688887",
     "status": "completed"
    },
    "tags": []
   },
   "outputs": [
    {
     "name": "stdout",
     "output_type": "stream",
     "text": [
      "[1 0 0 ... 4 0 0]\n",
      "[1 0 0 ... 4 0 0]\n"
     ]
    },
    {
     "data": {
      "image/png": "[encoded data removed]",
      "text/plain": [
       "<Figure size 432x288 with 2 Axes>"
      ]
     },
     "metadata": {
      "needs_background": "light"
     },
     "output_type": "display_data"
    }
   ],
   "source": [
    "# confusion matrix\n",
    "\n",
    "from sklearn.metrics import confusion_matrix\n",
    "import itertools\n",
    "\n",
    "def plot_confusion_matrix(cm, classes,\n",
    "                          normalize=False,\n",
    "                          title='Confusion matrix',\n",
    "                          cmap=plt.cm.Blues):\n",
    "    \"\"\"\n",
    "    This function prints and plots the confusion matrix.\n",
    "    Normalization can be applied by setting `normalize=True`.\n",
    "    \"\"\"\n",
    "    plt.imshow(cm, interpolation='nearest', cmap=cmap)\n",
    "    plt.title(title)\n",
    "    plt.colorbar()\n",
    "    tick_marks = np.arange(len(classes))\n",
    "    plt.xticks(tick_marks, classes, rotation=45)\n",
    "    plt.yticks(tick_marks, classes)\n",
    "\n",
    "    if normalize:\n",
    "        cm = cm.astype('float') / cm.sum(axis=1)[:, np.newaxis]\n",
    "\n",
    "    thresh = cm.max() / 2.\n",
    "    for i, j in itertools.product(range(cm.shape[0]), range(cm.shape[1])):\n",
    "        plt.text(j, i, cm[i, j],\n",
    "                 horizontalalignment=\"center\",\n",
    "                 color=\"white\" if cm[i, j] > thresh else \"black\")\n",
    "\n",
    "    plt.tight_layout()\n",
    "    plt.ylabel('True label')\n",
    "    plt.xlabel('Predicted label')\n",
    "\n",
    "# Predict the values from the validation dataset\n",
    "Y_pred = model.predict(val_X)\n",
    "\n",
    "# Convert predictions classes to numbers\n",
    "Y_pred_classes = np.argmax(Y_pred, axis = 1) \n",
    "\n",
    "\n",
    "print(Y_pred_classes)\n",
    "print(np.argmax(val_Y,  axis = 1))\n",
    "\n",
    "# Convert validation observations to one hot vectors\n",
    "#Y_true = np.argmax(val_Y, axis = 1) \n",
    "# compute the confusion matrix\n",
    "confusion_mtx = confusion_matrix(np.argmax(val_Y,  axis = 1), Y_pred_classes)\n",
    "\n",
    "# plot the confusion matrix\n",
    "plot_confusion_matrix(confusion_mtx, classes = range(10))"
   ]
  },
  {
   "cell_type": "code",
   "execution_count": 15,
   "id": "267bdf57",
   "metadata": {
    "execution": {
     "iopub.execute_input": "2022-06-28T20:02:13.671607Z",
     "iopub.status.busy": "2022-06-28T20:02:13.670991Z",
     "iopub.status.idle": "2022-06-28T20:02:15.422681Z",
     "shell.execute_reply": "2022-06-28T20:02:15.421601Z"
    },
    "papermill": {
     "duration": 5.247526,
     "end_time": "2022-06-28T20:02:15.425494",
     "exception": false,
     "start_time": "2022-06-28T20:02:10.177968",
     "status": "completed"
    },
    "tags": []
   },
   "outputs": [
    {
     "name": "stdout",
     "output_type": "stream",
     "text": [
      "132/132 - 1s - loss: 0.0221 - accuracy: 0.9924\n",
      "Val Loss 0.022125616669654846\n",
      "Val Accuracy 0.9923809766769409\n"
     ]
    },
    {
     "data": {
      "image/png": "[encoded data removed]",
      "text/plain": [
       "<Figure size 576x432 with 2 Axes>"
      ]
     },
     "metadata": {
      "needs_background": "light"
     },
     "output_type": "display_data"
    }
   ],
   "source": [
    "# evaluate the model\n",
    "loss_and_metrics = model.evaluate(val_X, val_Y, verbose=2)\n",
    "\n",
    "print(\"Val Loss\", loss_and_metrics[0])\n",
    "print(\"Val Accuracy\", loss_and_metrics[1])\n",
    "\n",
    "# plotting the metrics\n",
    "fig = plt.figure(figsize=(8,6))\n",
    "plt.subplot(2,1,1)\n",
    "plt.plot(history.history['accuracy'])\n",
    "plt.plot(history.history['val_accuracy'])\n",
    "plt.title('Model Accuracy')\n",
    "plt.ylabel('accuracy')\n",
    "plt.xlabel('epoch')\n",
    "plt.legend(['train', 'val'], loc='lower right')\n",
    "\n",
    "plt.subplot(2,1,2)\n",
    "plt.plot(history.history['loss'])\n",
    "plt.plot(history.history['val_loss'])\n",
    "plt.title('Model Loss')\n",
    "plt.ylabel('loss')\n",
    "plt.xlabel('epoch')\n",
    "plt.legend(['train', 'val'], loc='upper right')\n",
    "\n",
    "plt.tight_layout()\n",
    "plt.show()"
   ]
  },
  {
   "cell_type": "code",
   "execution_count": 16,
   "id": "accdf7a4",
   "metadata": {
    "execution": {
     "iopub.execute_input": "2022-06-28T20:02:22.226173Z",
     "iopub.status.busy": "2022-06-28T20:02:22.225892Z",
     "iopub.status.idle": "2022-06-28T20:02:29.123681Z",
     "shell.execute_reply": "2022-06-28T20:02:29.122870Z"
    },
    "papermill": {
     "duration": 10.265709,
     "end_time": "2022-06-28T20:02:29.126026",
     "exception": false,
     "start_time": "2022-06-28T20:02:18.860317",
     "status": "completed"
    },
    "tags": []
   },
   "outputs": [],
   "source": [
    "# predict results\n",
    "submissionPredictions = model.predict(test_X)\n",
    "\n",
    "# select the indix with the maximum probability\n",
    "submissionPredictions = np.argmax(submissionPredictions,axis = 1)\n",
    "\n",
    "submissionPredictions = pd.Series(submissionPredictions,name=\"Label\")"
   ]
  },
  {
   "cell_type": "code",
   "execution_count": 17,
   "id": "e3991ef9",
   "metadata": {
    "execution": {
     "iopub.execute_input": "2022-06-28T20:02:35.968676Z",
     "iopub.status.busy": "2022-06-28T20:02:35.968414Z",
     "iopub.status.idle": "2022-06-28T20:02:36.110685Z",
     "shell.execute_reply": "2022-06-28T20:02:36.109757Z"
    },
    "papermill": {
     "duration": 3.611064,
     "end_time": "2022-06-28T20:02:36.114161",
     "exception": false,
     "start_time": "2022-06-28T20:02:32.503097",
     "status": "completed"
    },
    "tags": []
   },
   "outputs": [
    {
     "data": {
      "image/png": "[encoded data removed]",
      "text/plain": [
       "<Figure size 432x288 with 1 Axes>"
      ]
     },
     "metadata": {
      "needs_background": "light"
     },
     "output_type": "display_data"
    }
   ],
   "source": [
    "# testing results\n",
    "\n",
    "itemToTest = 850\n",
    "plt.imshow(test_X[itemToTest].reshape(28, 28))\n",
    "# the label of the first number\n",
    "plt.title(f\"Digit: {submissionPredictions[itemToTest]}\")\n",
    "plt.show()"
   ]
  },
  {
   "cell_type": "code",
   "execution_count": 18,
   "id": "08229fa2",
   "metadata": {
    "execution": {
     "iopub.execute_input": "2022-06-28T20:02:42.830410Z",
     "iopub.status.busy": "2022-06-28T20:02:42.829798Z",
     "iopub.status.idle": "2022-06-28T20:02:42.909399Z",
     "shell.execute_reply": "2022-06-28T20:02:42.908249Z"
    },
    "papermill": {
     "duration": 3.425875,
     "end_time": "2022-06-28T20:02:42.911569",
     "exception": false,
     "start_time": "2022-06-28T20:02:39.485694",
     "status": "completed"
    },
    "tags": []
   },
   "outputs": [
    {
     "data": {
      "text/html": [
       "<div>\n",
       "<style scoped>\n",
       "    .dataframe tbody tr th:only-of-type {\n",
       "        vertical-align: middle;\n",
       "    }\n",
       "\n",
       "    .dataframe tbody tr th {\n",
       "        vertical-align: top;\n",
       "    }\n",
       "\n",
       "    .dataframe thead th {\n",
       "        text-align: right;\n",
       "    }\n",
       "</style>\n",
       "<table border=\"1\" class=\"dataframe\">\n",
       "  <thead>\n",
       "    <tr style=\"text-align: right;\">\n",
       "      <th></th>\n",
       "      <th>ImageId</th>\n",
       "      <th>Label</th>\n",
       "    </tr>\n",
       "  </thead>\n",
       "  <tbody>\n",
       "    <tr>\n",
       "      <th>0</th>\n",
       "      <td>1</td>\n",
       "      <td>2</td>\n",
       "    </tr>\n",
       "    <tr>\n",
       "      <th>1</th>\n",
       "      <td>2</td>\n",
       "      <td>0</td>\n",
       "    </tr>\n",
       "    <tr>\n",
       "      <th>2</th>\n",
       "      <td>3</td>\n",
       "      <td>9</td>\n",
       "    </tr>\n",
       "    <tr>\n",
       "      <th>3</th>\n",
       "      <td>4</td>\n",
       "      <td>0</td>\n",
       "    </tr>\n",
       "    <tr>\n",
       "      <th>4</th>\n",
       "      <td>5</td>\n",
       "      <td>3</td>\n",
       "    </tr>\n",
       "    <tr>\n",
       "      <th>...</th>\n",
       "      <td>...</td>\n",
       "      <td>...</td>\n",
       "    </tr>\n",
       "    <tr>\n",
       "      <th>27995</th>\n",
       "      <td>27996</td>\n",
       "      <td>9</td>\n",
       "    </tr>\n",
       "    <tr>\n",
       "      <th>27996</th>\n",
       "      <td>27997</td>\n",
       "      <td>7</td>\n",
       "    </tr>\n",
       "    <tr>\n",
       "      <th>27997</th>\n",
       "      <td>27998</td>\n",
       "      <td>3</td>\n",
       "    </tr>\n",
       "    <tr>\n",
       "      <th>27998</th>\n",
       "      <td>27999</td>\n",
       "      <td>9</td>\n",
       "    </tr>\n",
       "    <tr>\n",
       "      <th>27999</th>\n",
       "      <td>28000</td>\n",
       "      <td>2</td>\n",
       "    </tr>\n",
       "  </tbody>\n",
       "</table>\n",
       "<p>28000 rows × 2 columns</p>\n",
       "</div>"
      ],
      "text/plain": [
       "       ImageId  Label\n",
       "0            1      2\n",
       "1            2      0\n",
       "2            3      9\n",
       "3            4      0\n",
       "4            5      3\n",
       "...        ...    ...\n",
       "27995    27996      9\n",
       "27996    27997      7\n",
       "27997    27998      3\n",
       "27998    27999      9\n",
       "27999    28000      2\n",
       "\n",
       "[28000 rows x 2 columns]"
      ]
     },
     "execution_count": 18,
     "metadata": {},
     "output_type": "execute_result"
    }
   ],
   "source": [
    "# preparing submission\n",
    "\n",
    "submission = pd.DataFrame({'ImageId':pd.Series(list(range(1, len(submissionPredictions)+1))),\n",
    "                                   'Label':pd.Series(submissionPredictions)})\n",
    "\n",
    "submission.to_csv(\"submission.csv\", index=False)\n",
    "\n",
    "submission"
   ]
  }
 ],
 "metadata": {
  "kernelspec": {
   "display_name": "Python 3",
   "language": "python",
   "name": "python3"
  },
  "language_info": {
   "codemirror_mode": {
    "name": "ipython",
    "version": 3
   },
   "file_extension": ".py",
   "mimetype": "text/x-python",
   "name": "python",
   "nbconvert_exporter": "python",
   "pygments_lexer": "ipython3",
   "version": "3.7.12"
  },
  "papermill": {
   "default_parameters": {},
   "duration": 815.725928,
   "end_time": "2022-06-28T20:02:49.111425",
   "environment_variables": {},
   "exception": null,
   "input_path": "__notebook__.ipynb",
   "output_path": "__notebook__.ipynb",
   "parameters": {},
   "start_time": "2022-06-28T19:49:13.385497",
   "version": "2.3.4"
  }
 },
 "nbformat": 4,
 "nbformat_minor": 5
}
