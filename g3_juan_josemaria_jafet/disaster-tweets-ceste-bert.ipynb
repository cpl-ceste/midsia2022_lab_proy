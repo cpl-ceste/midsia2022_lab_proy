{
 "cells": [
  {
   "cell_type": "code",
   "execution_count": 1,
   "id": "87043a0a",
   "metadata": {
    "execution": {
     "iopub.execute_input": "2022-06-28T15:28:50.073162Z",
     "iopub.status.busy": "2022-06-28T15:28:50.071827Z",
     "iopub.status.idle": "2022-06-28T15:28:50.089345Z",
     "shell.execute_reply": "2022-06-28T15:28:50.088334Z"
    },
    "papermill": {
     "duration": 0.030245,
     "end_time": "2022-06-28T15:28:50.092323",
     "exception": false,
     "start_time": "2022-06-28T15:28:50.062078",
     "status": "completed"
    },
    "tags": []
   },
   "outputs": [
    {
     "name": "stdout",
     "output_type": "stream",
     "text": [
      "/kaggle/input/nlp-getting-started/sample_submission.csv\n",
      "/kaggle/input/nlp-getting-started/train.csv\n",
      "/kaggle/input/nlp-getting-started/test.csv\n"
     ]
    }
   ],
   "source": [
    "# This Python 3 environment comes with many helpful analytics libraries installed\n",
    "# It is defined by the kaggle/python Docker image: https://github.com/kaggle/docker-python\n",
    "# For example, here's several helpful packages to load\n",
    "\n",
    "import numpy as np # linear algebra\n",
    "import pandas as pd # data processing, CSV file I/O (e.g. pd.read_csv)\n",
    "from matplotlib import pyplot as plt\n",
    "\n",
    "\n",
    "# Input data files are available in the read-only \"../input/\" directory\n",
    "# For example, running this (by clicking run or pressing Shift+Enter) will list all files under the input directory\n",
    "\n",
    "import os\n",
    "for dirname, _, filenames in os.walk('/kaggle/input'):\n",
    "    for filename in filenames:\n",
    "        print(os.path.join(dirname, filename))\n",
    "\n",
    "# You can write up to 20GB to the current directory (/kaggle/working/) that gets preserved as output when you create a version using \"Save & Run All\" \n",
    "# You can also write temporary files to /kaggle/temp/, but they won't be saved outside of the current session"
   ]
  },
  {
   "cell_type": "code",
   "execution_count": 2,
   "id": "ba5d7192",
   "metadata": {
    "execution": {
     "iopub.execute_input": "2022-06-28T15:28:50.107830Z",
     "iopub.status.busy": "2022-06-28T15:28:50.106964Z",
     "iopub.status.idle": "2022-06-28T15:29:09.419184Z",
     "shell.execute_reply": "2022-06-28T15:29:09.415967Z"
    },
    "papermill": {
     "duration": 19.324506,
     "end_time": "2022-06-28T15:29:09.423497",
     "exception": false,
     "start_time": "2022-06-28T15:28:50.098991",
     "status": "completed"
    },
    "tags": []
   },
   "outputs": [
    {
     "name": "stdout",
     "output_type": "stream",
     "text": [
      "Collecting tweet-preprocessor\r\n",
      "  Downloading tweet_preprocessor-0.6.0-py3-none-any.whl (27 kB)\r\n",
      "Installing collected packages: tweet-preprocessor\r\n",
      "Successfully installed tweet-preprocessor-0.6.0\r\n",
      "\u001b[33mWARNING: Running pip as the 'root' user can result in broken permissions and conflicting behaviour with the system package manager. It is recommended to use a virtual environment instead: https://pip.pypa.io/warnings/venv\u001b[0m\u001b[33m\r\n",
      "\u001b[0m"
     ]
    },
    {
     "name": "stderr",
     "output_type": "stream",
     "text": [
      "/opt/conda/lib/python3.7/site-packages/ipykernel_launcher.py:41: FutureWarning: The default value of regex will change from True to False in a future version.\n",
      "/opt/conda/lib/python3.7/site-packages/ipykernel_launcher.py:42: FutureWarning: The default value of regex will change from True to False in a future version.\n"
     ]
    }
   ],
   "source": [
    "### código inicial \n",
    "\n",
    "train = pd.read_csv(\"/kaggle/input/nlp-getting-started/train.csv\")\n",
    "test = pd.read_csv(\"/kaggle/input/nlp-getting-started/test.csv\")\n",
    "\n",
    "# DUDA - ver por qué hay duplicados y como son\n",
    "train = train.drop_duplicates('text')\n",
    "\n",
    "drop_columns = ['location','keyword']\n",
    "target = train.pop('target')\n",
    "train=train.drop(columns=drop_columns)\n",
    "test=test.drop(columns=drop_columns)\n",
    "\n",
    "\n",
    "train['text'] = train['text'].str.replace(\"#\", \"\").replace(\"_\", \" \")\n",
    "test['text'] = test['text'].str.replace(\"#\", \"\").replace(\"_\", \" \")\n",
    "\n",
    "\n",
    "#Importing preprocessor and defining preprocess function\n",
    "!pip install tweet-preprocessor\n",
    "import preprocessor as p\n",
    "\n",
    "def preprocess_tweet(row):\n",
    "    text = row['text']\n",
    "    text = p.clean(text)\n",
    "    return text\n",
    "\n",
    "#Cleaning train dataset\n",
    "\n",
    "train['text'] = train.apply(preprocess_tweet, axis=1)\n",
    "test['text'] = test.apply(preprocess_tweet, axis=1)\n",
    "\n",
    "from nltk.corpus import stopwords\n",
    "stop = stopwords.words('english')\n",
    "\n",
    "train['text'] = train['text'].apply(lambda x: ' '.join([word for word in x.split() if word not in (stop)]))\n",
    "test['text'] = test['text'].apply(lambda x: ' '.join([word for word in x.split() if word not in (stop)]))\n",
    "\n",
    "#Removing extra white spaces and punctuation, and applying lowercase\n",
    "\n",
    "train['text'] = train['text'].str.lower().str.replace('[^\\w\\s]',' ').str.replace('\\s\\s+', ' ')\n",
    "test['text'] = test['text'].str.lower().str.replace('[^\\w\\s]',' ').str.replace('\\s\\s+', ' ')\n",
    "\n",
    "train_data = train\n",
    "test_data = test\n",
    "\n",
    "### código final"
   ]
  },
  {
   "cell_type": "code",
   "execution_count": 3,
   "id": "c781e137",
   "metadata": {
    "execution": {
     "iopub.execute_input": "2022-06-28T15:29:09.440675Z",
     "iopub.status.busy": "2022-06-28T15:29:09.440147Z",
     "iopub.status.idle": "2022-06-28T15:30:41.109072Z",
     "shell.execute_reply": "2022-06-28T15:30:41.106678Z"
    },
    "papermill": {
     "duration": 91.682079,
     "end_time": "2022-06-28T15:30:41.113435",
     "exception": false,
     "start_time": "2022-06-28T15:29:09.431356",
     "status": "completed"
    },
    "tags": []
   },
   "outputs": [
    {
     "name": "stdout",
     "output_type": "stream",
     "text": [
      "\u001b[31mERROR: pip's dependency resolver does not currently take into account all the packages that are installed. This behaviour is the source of the following dependency conflicts.\r\n",
      "beatrix-jupyterlab 3.1.7 requires google-cloud-bigquery-storage, which is not installed.\r\n",
      "tfx-bsl 1.8.0 requires google-api-python-client<2,>=1.7.11, but you have google-api-python-client 2.48.0 which is incompatible.\r\n",
      "tfx-bsl 1.8.0 requires pyarrow<6,>=1, but you have pyarrow 8.0.0 which is incompatible.\r\n",
      "tensorflow-transform 1.8.0 requires pyarrow<6,>=1, but you have pyarrow 8.0.0 which is incompatible.\r\n",
      "tensorflow-io 0.21.0 requires tensorflow<2.7.0,>=2.6.0, but you have tensorflow 2.8.2 which is incompatible.\r\n",
      "tensorflow-io 0.21.0 requires tensorflow-io-gcs-filesystem==0.21.0, but you have tensorflow-io-gcs-filesystem 0.26.0 which is incompatible.\r\n",
      "grpcio-status 1.46.3 requires grpcio>=1.46.3, but you have grpcio 1.43.0 which is incompatible.\r\n",
      "google-cloud-aiplatform 0.6.0a1 requires google-cloud-storage<2.0.0dev,>=1.26.0, but you have google-cloud-storage 2.1.0 which is incompatible.\r\n",
      "earthengine-api 0.1.315 requires google-api-python-client<2,>=1.12.1, but you have google-api-python-client 2.48.0 which is incompatible.\r\n",
      "apache-beam 2.39.0 requires dill<0.3.2,>=0.3.1.1, but you have dill 0.3.5.1 which is incompatible.\r\n",
      "apache-beam 2.39.0 requires httplib2<0.20.0,>=0.8, but you have httplib2 0.20.4 which is incompatible.\r\n",
      "apache-beam 2.39.0 requires pyarrow<8.0.0,>=0.15.1, but you have pyarrow 8.0.0 which is incompatible.\u001b[0m\u001b[31m\r\n",
      "\u001b[0m\u001b[33mWARNING: Running pip as the 'root' user can result in broken permissions and conflicting behaviour with the system package manager. It is recommended to use a virtual environment instead: https://pip.pypa.io/warnings/venv\u001b[0m\u001b[33m\r\n",
      "\u001b[0m"
     ]
    }
   ],
   "source": [
    "#Required for the preprocessor to work\n",
    "!pip install -q -U \"tensorflow-text==2.8.*\""
   ]
  },
  {
   "cell_type": "code",
   "execution_count": 4,
   "id": "01034a7c",
   "metadata": {
    "execution": {
     "iopub.execute_input": "2022-06-28T15:30:41.131617Z",
     "iopub.status.busy": "2022-06-28T15:30:41.130998Z",
     "iopub.status.idle": "2022-06-28T15:31:45.714367Z",
     "shell.execute_reply": "2022-06-28T15:31:45.712889Z"
    },
    "papermill": {
     "duration": 64.596891,
     "end_time": "2022-06-28T15:31:45.717899",
     "exception": false,
     "start_time": "2022-06-28T15:30:41.121008",
     "status": "completed"
    },
    "tags": []
   },
   "outputs": [
    {
     "name": "stdout",
     "output_type": "stream",
     "text": [
      "\u001b[33mWARNING: Running pip as the 'root' user can result in broken permissions and conflicting behaviour with the system package manager. It is recommended to use a virtual environment instead: https://pip.pypa.io/warnings/venv\u001b[0m\u001b[33m\r\n",
      "\u001b[0m"
     ]
    }
   ],
   "source": [
    "#Required for AdamW\n",
    "!pip install -q tf-models-official==2.7.0"
   ]
  },
  {
   "cell_type": "code",
   "execution_count": 5,
   "id": "527420fc",
   "metadata": {
    "execution": {
     "iopub.execute_input": "2022-06-28T15:31:45.735600Z",
     "iopub.status.busy": "2022-06-28T15:31:45.734170Z",
     "iopub.status.idle": "2022-06-28T15:31:50.887946Z",
     "shell.execute_reply": "2022-06-28T15:31:50.886747Z"
    },
    "papermill": {
     "duration": 5.165584,
     "end_time": "2022-06-28T15:31:50.890601",
     "exception": false,
     "start_time": "2022-06-28T15:31:45.725017",
     "status": "completed"
    },
    "tags": []
   },
   "outputs": [
    {
     "name": "stderr",
     "output_type": "stream",
     "text": [
      "2022-06-28 15:31:45.987993: W tensorflow/stream_executor/platform/default/dso_loader.cc:64] Could not load dynamic library 'libcudart.so.11.0'; dlerror: libcudart.so.11.0: cannot open shared object file: No such file or directory; LD_LIBRARY_PATH: /usr/local/cuda/lib64:/usr/local/cuda/lib:/usr/local/lib/x86_64-linux-gnu:/usr/local/nvidia/lib:/usr/local/nvidia/lib64:\n",
      "2022-06-28 15:31:45.988096: I tensorflow/stream_executor/cuda/cudart_stub.cc:29] Ignore above cudart dlerror if you do not have a GPU set up on your machine.\n",
      "/opt/conda/lib/python3.7/site-packages/tensorflow_addons/utils/ensure_tf_install.py:67: UserWarning: Tensorflow Addons supports using Python ops for all Tensorflow versions above or equal to 2.4.0 and strictly below 2.7.0 (nightly versions are not supported). \n",
      " The versions of TensorFlow you are currently using is 2.8.2 and is not supported. \n",
      "Some things might work, some things might not.\n",
      "If you were to encounter a bug, do not file an issue.\n",
      "If you want to make sure you're using a tested and supported configuration, either change the TensorFlow version or the TensorFlow Addons's version. \n",
      "You can find the compatibility matrix in TensorFlow Addon's readme:\n",
      "https://github.com/tensorflow/addons\n",
      "  UserWarning,\n"
     ]
    }
   ],
   "source": [
    "import shutil\n",
    "\n",
    "import tensorflow as tf\n",
    "import tensorflow_hub as hub \n",
    "import tensorflow_text as text\n",
    "from official.nlp import optimization\n",
    "\n",
    "tf.get_logger().setLevel('ERROR')"
   ]
  },
  {
   "cell_type": "code",
   "execution_count": 6,
   "id": "57f528dc",
   "metadata": {
    "execution": {
     "iopub.execute_input": "2022-06-28T15:31:50.907671Z",
     "iopub.status.busy": "2022-06-28T15:31:50.906775Z",
     "iopub.status.idle": "2022-06-28T15:31:50.939855Z",
     "shell.execute_reply": "2022-06-28T15:31:50.938893Z"
    },
    "papermill": {
     "duration": 0.044702,
     "end_time": "2022-06-28T15:31:50.942669",
     "exception": false,
     "start_time": "2022-06-28T15:31:50.897967",
     "status": "completed"
    },
    "tags": []
   },
   "outputs": [
    {
     "name": "stderr",
     "output_type": "stream",
     "text": [
      "2022-06-28 15:31:50.916709: W tensorflow/stream_executor/platform/default/dso_loader.cc:64] Could not load dynamic library 'libcuda.so.1'; dlerror: libcuda.so.1: cannot open shared object file: No such file or directory; LD_LIBRARY_PATH: /usr/local/cuda/lib64:/usr/local/cuda/lib:/usr/local/lib/x86_64-linux-gnu:/usr/local/nvidia/lib:/usr/local/nvidia/lib64:\n",
      "2022-06-28 15:31:50.916779: W tensorflow/stream_executor/cuda/cuda_driver.cc:269] failed call to cuInit: UNKNOWN ERROR (303)\n",
      "2022-06-28 15:31:50.916817: I tensorflow/stream_executor/cuda/cuda_diagnostics.cc:156] kernel driver does not appear to be running on this host (936d1017f7b2): /proc/driver/nvidia/version does not exist\n",
      "2022-06-28 15:31:50.918509: I tensorflow/core/platform/cpu_feature_guard.cc:151] This TensorFlow binary is optimized with oneAPI Deep Neural Network Library (oneDNN) to use the following CPU instructions in performance-critical operations:  AVX2 FMA\n",
      "To enable them in other operations, rebuild TensorFlow with the appropriate compiler flags.\n"
     ]
    }
   ],
   "source": [
    "batch_size = 32\n",
    "disaster_ds = tf.data.Dataset.from_tensor_slices((train_data['text'], target)).batch(batch_size)"
   ]
  },
  {
   "cell_type": "code",
   "execution_count": 7,
   "id": "84bbfe66",
   "metadata": {
    "execution": {
     "iopub.execute_input": "2022-06-28T15:31:50.960948Z",
     "iopub.status.busy": "2022-06-28T15:31:50.960159Z",
     "iopub.status.idle": "2022-06-28T15:31:50.982090Z",
     "shell.execute_reply": "2022-06-28T15:31:50.980708Z"
    },
    "papermill": {
     "duration": 0.035182,
     "end_time": "2022-06-28T15:31:50.985756",
     "exception": false,
     "start_time": "2022-06-28T15:31:50.950574",
     "status": "completed"
    },
    "tags": []
   },
   "outputs": [
    {
     "name": "stdout",
     "output_type": "stream",
     "text": [
      "(<tf.Tensor: shape=(32,), dtype=string, numpy=\n",
      "array([b'our deeds reason earthquake may allah forgive us',\n",
      "       b'forest fire near la ronge sask canada',\n",
      "       b'all residents asked shelter place notified officers no evacuation shelter place orders expected',\n",
      "       b'people receive wildfires evacuation orders california',\n",
      "       b'just got sent photo ruby alaska smoke wildfires pours school',\n",
      "       b'rockyfire update california hwy closed directions due lake county fire cafire wildfires',\n",
      "       b'flood disaster heavy rain causes flash flooding streets manitou colorado springs areas',\n",
      "       b'i m top hill i see fire woods ',\n",
      "       b'there s emergency evacuation happening building across street',\n",
      "       b'i m afraid tornado coming area ',\n",
      "       b'three people died heat wave far',\n",
      "       b'haha south tampa getting flooded hah wait a second i live in south tampa what am i gonna do what am i gonna do fvck flooding',\n",
      "       b'raining flooding florida tampabay tampa days i ve lost count',\n",
      "       b'flood bago myanmar we arrived bago',\n",
      "       b'damage school bus multi car crash breaking', b'what s man ',\n",
      "       b'i love fruits', b'summer lovely', b'my car fast',\n",
      "       b'what goooooooaaaaaal ', b'ridiculous ', b'london cool',\n",
      "       b'love skiing', b'what wonderful day ', b'looooool',\n",
      "       b'no way i can t eat shit', b'was nyc last week ',\n",
      "       b'love girlfriend', b'cooool', b'do like pasta ', b'the end ',\n",
      "       b'wholesale markets ablaze'], dtype=object)>, <tf.Tensor: shape=(32,), dtype=int64, numpy=\n",
      "array([1, 1, 1, 1, 1, 1, 1, 1, 1, 1, 1, 1, 1, 1, 1, 0, 0, 0, 0, 0, 0, 0,\n",
      "       0, 0, 0, 0, 0, 0, 0, 0, 0, 1])>)\n",
      "(<tf.Tensor: shape=(32,), dtype=string, numpy=\n",
      "array([b'we always try bring heavy metal rt',\n",
      "       b'africanbaze breaking news nigeria flag set ablaze aba ',\n",
      "       b'crying more set ablaze',\n",
      "       b'on plus side look at the sky last night it was ablaze',\n",
      "       b'mufc they ve built much hype around new acquisitions i doubt set epl ablaze season ',\n",
      "       b'inec office abia set ablaze ',\n",
      "       b'barbados bridgetown jamaica two cars set ablaze santa cruz head st elizabeth police superintende ',\n",
      "       b'ablaze lord', b'check out nsfw',\n",
      "       b'outside ablaze alivebut dead inside',\n",
      "       b'had awesome time visiting cfc head office ancop site ablaze thanks tita vida taking care us ',\n",
      "       b'soooo pumped for ablaze ',\n",
      "       b'i wanted set chicago ablaze preaching but hotel ',\n",
      "       b'i gained followers last week you know stats grow',\n",
      "       b'how west burned thousands wildfires ablaze california alone',\n",
      "       b'building perfect tracklist life leave streets ablaze',\n",
      "       b'first night retainers in it s quite weird better get used it i wear every single night next year least ',\n",
      "       b'deputies man shot brighton home set ablaze',\n",
      "       b'man wife get six years jail setting ablaze niece',\n",
      "       b'santa cruz head st elizabeth police superintendent lanford salmon r ',\n",
      "       b'police arsonist deliberately set black church in north carolinaablaze',\n",
      "       b'noches el bestia happy see teammates training hard goodnight gunners ',\n",
      "       b'kurds trampling turkmen flag later set ablaze others vandalized offices turkmen front diyala',\n",
      "       b'truck ablaze r21 voortrekker ave outside or tambo intl cargo section ',\n",
      "       b'set hearts ablaze every city gift and every skyline like kiss upon lips',\n",
      "       b'they sky ablaze tonight los angeles i m expecting ig fb filled sunset shots i know peeps ',\n",
      "       b'how west burned thousands wildfires ablaze california alone climate energy',\n",
      "       b'revel wmv videos means mac farewell ablaze wmv en route dvd gtxrwm',\n",
      "       b'progressive greetings in month students would set pens ablaze the torch publications ',\n",
      "       b'rene ablaze amp jacinta secret k13 fallen skies edit mar',\n",
      "       b'steve fires something else california tinderbox clown setting hood ablaze',\n",
      "       b'nowplaying rene ablaze amp ian buff magnitude edm'], dtype=object)>, <tf.Tensor: shape=(32,), dtype=int64, numpy=\n",
      "array([0, 1, 0, 0, 0, 1, 1, 0, 0, 0, 0, 0, 0, 0, 1, 0, 0, 1, 1, 0, 1, 0,\n",
      "       1, 1, 0, 0, 1, 0, 0, 0, 1, 0])>)\n"
     ]
    }
   ],
   "source": [
    "#Test of the training set contains the desired data\n",
    "for row in disaster_ds.take(2):\n",
    "    print(row)"
   ]
  },
  {
   "cell_type": "code",
   "execution_count": 8,
   "id": "2e3cbda4",
   "metadata": {
    "execution": {
     "iopub.execute_input": "2022-06-28T15:31:51.004744Z",
     "iopub.status.busy": "2022-06-28T15:31:51.003214Z",
     "iopub.status.idle": "2022-06-28T15:31:51.008693Z",
     "shell.execute_reply": "2022-06-28T15:31:51.007760Z"
    },
    "papermill": {
     "duration": 0.017318,
     "end_time": "2022-06-28T15:31:51.011039",
     "exception": false,
     "start_time": "2022-06-28T15:31:50.993721",
     "status": "completed"
    },
    "tags": []
   },
   "outputs": [],
   "source": [
    "encoder_url ='https://tfhub.dev/tensorflow/small_bert/bert_en_uncased_L-4_H-512_A-8/1'\n",
    "preprocessor_url='https://tfhub.dev/tensorflow/bert_en_uncased_preprocess/3'"
   ]
  },
  {
   "cell_type": "code",
   "execution_count": 9,
   "id": "d7209adc",
   "metadata": {
    "execution": {
     "iopub.execute_input": "2022-06-28T15:31:51.029796Z",
     "iopub.status.busy": "2022-06-28T15:31:51.028176Z",
     "iopub.status.idle": "2022-06-28T15:31:54.716783Z",
     "shell.execute_reply": "2022-06-28T15:31:54.715321Z"
    },
    "papermill": {
     "duration": 3.701518,
     "end_time": "2022-06-28T15:31:54.720346",
     "exception": false,
     "start_time": "2022-06-28T15:31:51.018828",
     "status": "completed"
    },
    "tags": []
   },
   "outputs": [],
   "source": [
    "preprocessor = hub.KerasLayer(preprocessor_url)"
   ]
  },
  {
   "cell_type": "code",
   "execution_count": 10,
   "id": "1970a445",
   "metadata": {
    "execution": {
     "iopub.execute_input": "2022-06-28T15:31:54.739456Z",
     "iopub.status.busy": "2022-06-28T15:31:54.738641Z",
     "iopub.status.idle": "2022-06-28T15:31:54.748037Z",
     "shell.execute_reply": "2022-06-28T15:31:54.746852Z"
    },
    "papermill": {
     "duration": 0.022096,
     "end_time": "2022-06-28T15:31:54.750917",
     "exception": false,
     "start_time": "2022-06-28T15:31:54.728821",
     "status": "completed"
    },
    "tags": []
   },
   "outputs": [],
   "source": [
    "def build_bert_classifier():\n",
    "  tweet = tf.keras.layers.Input(shape=(), dtype=tf.string, name='tweets')\n",
    "  preprocessing_layer = hub.KerasLayer(preprocessor_url, name='preprocessing')\n",
    "  encoder_inputs = preprocessing_layer(tweet)\n",
    "  encoder = hub.KerasLayer(encoder_url, trainable=True, name='BERT_encoder')\n",
    "  outputs = encoder(encoder_inputs)\n",
    "  net = outputs['pooled_output']\n",
    "  net = tf.keras.layers.Dropout(0.1)(net)\n",
    "  net = tf.keras.layers.Dense(1, activation=None, name='classifier')(net)\n",
    "  return tf.keras.Model(tweet, net)"
   ]
  },
  {
   "cell_type": "code",
   "execution_count": 11,
   "id": "6f241bc8",
   "metadata": {
    "execution": {
     "iopub.execute_input": "2022-06-28T15:31:54.768738Z",
     "iopub.status.busy": "2022-06-28T15:31:54.767904Z",
     "iopub.status.idle": "2022-06-28T15:32:11.087440Z",
     "shell.execute_reply": "2022-06-28T15:32:11.085970Z"
    },
    "papermill": {
     "duration": 16.332398,
     "end_time": "2022-06-28T15:32:11.090827",
     "exception": false,
     "start_time": "2022-06-28T15:31:54.758429",
     "status": "completed"
    },
    "tags": []
   },
   "outputs": [],
   "source": [
    "#Test if the model works on sample text\n",
    "bert_tweet_classifier = build_bert_classifier()"
   ]
  },
  {
   "cell_type": "code",
   "execution_count": 12,
   "id": "a3ab2d33",
   "metadata": {
    "execution": {
     "iopub.execute_input": "2022-06-28T15:32:11.110971Z",
     "iopub.status.busy": "2022-06-28T15:32:11.110503Z",
     "iopub.status.idle": "2022-06-28T15:32:12.446310Z",
     "shell.execute_reply": "2022-06-28T15:32:12.444576Z"
    },
    "papermill": {
     "duration": 1.348005,
     "end_time": "2022-06-28T15:32:12.449423",
     "exception": false,
     "start_time": "2022-06-28T15:32:11.101418",
     "status": "completed"
    },
    "tags": []
   },
   "outputs": [
    {
     "data": {
      "image/png": "[encoded data removed]",
      "text/plain": [
       "<IPython.core.display.Image object>"
      ]
     },
     "execution_count": 12,
     "metadata": {},
     "output_type": "execute_result"
    }
   ],
   "source": [
    "tf.keras.utils.plot_model(bert_tweet_classifier,show_shapes=True,rankdir='LR')"
   ]
  },
  {
   "cell_type": "code",
   "execution_count": 13,
   "id": "c0ba2514",
   "metadata": {
    "execution": {
     "iopub.execute_input": "2022-06-28T15:32:12.469611Z",
     "iopub.status.busy": "2022-06-28T15:32:12.468238Z",
     "iopub.status.idle": "2022-06-28T16:51:26.624547Z",
     "shell.execute_reply": "2022-06-28T16:51:26.621524Z"
    },
    "papermill": {
     "duration": 4754.16985,
     "end_time": "2022-06-28T16:51:26.627898",
     "exception": false,
     "start_time": "2022-06-28T15:32:12.458048",
     "status": "completed"
    },
    "tags": []
   },
   "outputs": [
    {
     "name": "stdout",
     "output_type": "stream",
     "text": [
      "Training model with https://tfhub.dev/tensorflow/small_bert/bert_en_uncased_L-4_H-512_A-8/1\n",
      "Epoch 1/4\n",
      "235/235 [==============================] - 1223s 5s/step - loss: 0.5689 - binary_accuracy: 0.7182\n",
      "Epoch 2/4\n",
      "235/235 [==============================] - 1270s 5s/step - loss: 0.4078 - binary_accuracy: 0.8266\n",
      "Epoch 3/4\n",
      "235/235 [==============================] - 1166s 5s/step - loss: 0.3442 - binary_accuracy: 0.8535\n",
      "Epoch 4/4\n",
      "235/235 [==============================] - 1040s 4s/step - loss: 0.3067 - binary_accuracy: 0.8741\n"
     ]
    }
   ],
   "source": [
    "loss = tf.keras.losses.BinaryCrossentropy(from_logits=True)\n",
    "metrics = tf.metrics.BinaryAccuracy()\n",
    "epochs = 4\n",
    "steps_per_epoch = tf.data.experimental.cardinality(disaster_ds).numpy()\n",
    "num_train_steps = steps_per_epoch * epochs\n",
    "num_warmup_steps = int(0.1*num_train_steps)\n",
    "\n",
    "init_lr = 3e-5\n",
    "optimizer = optimization.create_optimizer(init_lr=init_lr,\n",
    "                                          num_train_steps=num_train_steps,\n",
    "                                          num_warmup_steps=num_warmup_steps,\n",
    "                                          optimizer_type='adamw')\n",
    "bert_tweet_classifier.compile(optimizer=optimizer,\n",
    "                         loss=loss,\n",
    "                         metrics=metrics)\n",
    "print(f'Training model with {encoder_url}')\n",
    "history = bert_tweet_classifier.fit(x=disaster_ds,\n",
    "                               epochs=epochs)"
   ]
  },
  {
   "cell_type": "code",
   "execution_count": 14,
   "id": "74cd40c9",
   "metadata": {
    "execution": {
     "iopub.execute_input": "2022-06-28T16:51:26.782654Z",
     "iopub.status.busy": "2022-06-28T16:51:26.781417Z",
     "iopub.status.idle": "2022-06-28T16:54:15.902020Z",
     "shell.execute_reply": "2022-06-28T16:54:15.900505Z"
    },
    "papermill": {
     "duration": 169.201158,
     "end_time": "2022-06-28T16:54:15.905013",
     "exception": false,
     "start_time": "2022-06-28T16:51:26.703855",
     "status": "completed"
    },
    "tags": []
   },
   "outputs": [
    {
     "name": "stderr",
     "output_type": "stream",
     "text": [
      "2022-06-28 16:51:38.498709: W tensorflow/core/framework/cpu_allocator_impl.cc:82] Allocation of 1710751744 exceeds 10% of free system memory.\n",
      "2022-06-28 16:51:44.421686: W tensorflow/core/framework/cpu_allocator_impl.cc:82] Allocation of 1710751744 exceeds 10% of free system memory.\n",
      "2022-06-28 16:52:01.927638: W tensorflow/core/framework/cpu_allocator_impl.cc:82] Allocation of 3421503488 exceeds 10% of free system memory.\n",
      "2022-06-28 16:52:09.909939: W tensorflow/core/framework/cpu_allocator_impl.cc:82] Allocation of 3421503488 exceeds 10% of free system memory.\n",
      "2022-06-28 16:52:29.298751: W tensorflow/core/framework/cpu_allocator_impl.cc:82] Allocation of 1710751744 exceeds 10% of free system memory.\n"
     ]
    }
   ],
   "source": [
    "#Predicting state of test data\n",
    "preds = bert_tweet_classifier(test_data['text'])"
   ]
  },
  {
   "cell_type": "code",
   "execution_count": 15,
   "id": "cd895cc5",
   "metadata": {
    "execution": {
     "iopub.execute_input": "2022-06-28T16:54:16.064703Z",
     "iopub.status.busy": "2022-06-28T16:54:16.063867Z",
     "iopub.status.idle": "2022-06-28T16:54:16.083048Z",
     "shell.execute_reply": "2022-06-28T16:54:16.082021Z"
    },
    "papermill": {
     "duration": 0.100516,
     "end_time": "2022-06-28T16:54:16.085668",
     "exception": false,
     "start_time": "2022-06-28T16:54:15.985152",
     "status": "completed"
    },
    "tags": []
   },
   "outputs": [],
   "source": [
    "#Get the sigmoid ranges from the data\n",
    "sigpreds= tf.sigmoid(preds)"
   ]
  },
  {
   "cell_type": "code",
   "execution_count": 16,
   "id": "3e5ffcb1",
   "metadata": {
    "execution": {
     "iopub.execute_input": "2022-06-28T16:54:16.239552Z",
     "iopub.status.busy": "2022-06-28T16:54:16.238720Z",
     "iopub.status.idle": "2022-06-28T16:54:16.245954Z",
     "shell.execute_reply": "2022-06-28T16:54:16.244735Z"
    },
    "papermill": {
     "duration": 0.087205,
     "end_time": "2022-06-28T16:54:16.248823",
     "exception": false,
     "start_time": "2022-06-28T16:54:16.161618",
     "status": "completed"
    },
    "tags": []
   },
   "outputs": [],
   "source": [
    "#Recast to 0 and 1\n",
    "sigpreds = sigpreds*2\n",
    "sigpreds=np.floor(sigpreds).astype(int)"
   ]
  },
  {
   "cell_type": "code",
   "execution_count": 17,
   "id": "7d204d4c",
   "metadata": {
    "execution": {
     "iopub.execute_input": "2022-06-28T16:54:16.503727Z",
     "iopub.status.busy": "2022-06-28T16:54:16.502800Z",
     "iopub.status.idle": "2022-06-28T16:54:16.508833Z",
     "shell.execute_reply": "2022-06-28T16:54:16.507466Z"
    },
    "papermill": {
     "duration": 0.180519,
     "end_time": "2022-06-28T16:54:16.511911",
     "exception": false,
     "start_time": "2022-06-28T16:54:16.331392",
     "status": "completed"
    },
    "tags": []
   },
   "outputs": [],
   "source": [
    "sigpreds=sigpreds.reshape(-1) #Flatten array"
   ]
  },
  {
   "cell_type": "code",
   "execution_count": 18,
   "id": "d16dfc11",
   "metadata": {
    "execution": {
     "iopub.execute_input": "2022-06-28T16:54:16.670134Z",
     "iopub.status.busy": "2022-06-28T16:54:16.669501Z",
     "iopub.status.idle": "2022-06-28T16:54:16.954871Z",
     "shell.execute_reply": "2022-06-28T16:54:16.953500Z"
    },
    "papermill": {
     "duration": 0.364587,
     "end_time": "2022-06-28T16:54:16.957632",
     "exception": false,
     "start_time": "2022-06-28T16:54:16.593045",
     "status": "completed"
    },
    "tags": []
   },
   "outputs": [
    {
     "data": {
      "text/plain": [
       "(array([2008.,    0.,    0.,    0.,    0.,    0.,    0.,    0.,    0.,\n",
       "        1255.]),\n",
       " array([0. , 0.1, 0.2, 0.3, 0.4, 0.5, 0.6, 0.7, 0.8, 0.9, 1. ]),\n",
       " <BarContainer object of 10 artists>)"
      ]
     },
     "execution_count": 18,
     "metadata": {},
     "output_type": "execute_result"
    },
    {
     "data": {
      "image/png": "[encoded data removed]",
      "text/plain": [
       "<Figure size 432x288 with 1 Axes>"
      ]
     },
     "metadata": {
      "needs_background": "light"
     },
     "output_type": "display_data"
    }
   ],
   "source": [
    "#Plot a histogram \n",
    "plt.hist(sigpreds)"
   ]
  },
  {
   "cell_type": "code",
   "execution_count": 19,
   "id": "3700c36f",
   "metadata": {
    "execution": {
     "iopub.execute_input": "2022-06-28T16:54:17.113918Z",
     "iopub.status.busy": "2022-06-28T16:54:17.112932Z",
     "iopub.status.idle": "2022-06-28T16:54:17.164130Z",
     "shell.execute_reply": "2022-06-28T16:54:17.162857Z"
    },
    "papermill": {
     "duration": 0.13198,
     "end_time": "2022-06-28T16:54:17.166863",
     "exception": false,
     "start_time": "2022-06-28T16:54:17.034883",
     "status": "completed"
    },
    "tags": []
   },
   "outputs": [
    {
     "data": {
      "text/html": [
       "<div>\n",
       "<style scoped>\n",
       "    .dataframe tbody tr th:only-of-type {\n",
       "        vertical-align: middle;\n",
       "    }\n",
       "\n",
       "    .dataframe tbody tr th {\n",
       "        vertical-align: top;\n",
       "    }\n",
       "\n",
       "    .dataframe thead th {\n",
       "        text-align: right;\n",
       "    }\n",
       "</style>\n",
       "<table border=\"1\" class=\"dataframe\">\n",
       "  <thead>\n",
       "    <tr style=\"text-align: right;\">\n",
       "      <th></th>\n",
       "      <th>id</th>\n",
       "      <th>target</th>\n",
       "    </tr>\n",
       "  </thead>\n",
       "  <tbody>\n",
       "    <tr>\n",
       "      <th>0</th>\n",
       "      <td>0</td>\n",
       "      <td>1</td>\n",
       "    </tr>\n",
       "    <tr>\n",
       "      <th>1</th>\n",
       "      <td>2</td>\n",
       "      <td>1</td>\n",
       "    </tr>\n",
       "    <tr>\n",
       "      <th>2</th>\n",
       "      <td>3</td>\n",
       "      <td>1</td>\n",
       "    </tr>\n",
       "    <tr>\n",
       "      <th>3</th>\n",
       "      <td>9</td>\n",
       "      <td>1</td>\n",
       "    </tr>\n",
       "    <tr>\n",
       "      <th>4</th>\n",
       "      <td>11</td>\n",
       "      <td>1</td>\n",
       "    </tr>\n",
       "    <tr>\n",
       "      <th>...</th>\n",
       "      <td>...</td>\n",
       "      <td>...</td>\n",
       "    </tr>\n",
       "    <tr>\n",
       "      <th>3258</th>\n",
       "      <td>10861</td>\n",
       "      <td>1</td>\n",
       "    </tr>\n",
       "    <tr>\n",
       "      <th>3259</th>\n",
       "      <td>10865</td>\n",
       "      <td>1</td>\n",
       "    </tr>\n",
       "    <tr>\n",
       "      <th>3260</th>\n",
       "      <td>10868</td>\n",
       "      <td>1</td>\n",
       "    </tr>\n",
       "    <tr>\n",
       "      <th>3261</th>\n",
       "      <td>10874</td>\n",
       "      <td>1</td>\n",
       "    </tr>\n",
       "    <tr>\n",
       "      <th>3262</th>\n",
       "      <td>10875</td>\n",
       "      <td>1</td>\n",
       "    </tr>\n",
       "  </tbody>\n",
       "</table>\n",
       "<p>3263 rows × 2 columns</p>\n",
       "</div>"
      ],
      "text/plain": [
       "         id  target\n",
       "0         0       1\n",
       "1         2       1\n",
       "2         3       1\n",
       "3         9       1\n",
       "4        11       1\n",
       "...     ...     ...\n",
       "3258  10861       1\n",
       "3259  10865       1\n",
       "3260  10868       1\n",
       "3261  10874       1\n",
       "3262  10875       1\n",
       "\n",
       "[3263 rows x 2 columns]"
      ]
     },
     "execution_count": 19,
     "metadata": {},
     "output_type": "execute_result"
    }
   ],
   "source": [
    "# Preparamos la entrega\n",
    "dfsub = pd.DataFrame({'id' : test_data['id'].to_list(),'target': sigpreds})\n",
    "dfsub.to_csv('submission.csv', index=False)\n",
    "dfsub = pd.read_csv('submission.csv')\n",
    "dfsub"
   ]
  }
 ],
 "metadata": {
  "kernelspec": {
   "display_name": "Python 3",
   "language": "python",
   "name": "python3"
  },
  "language_info": {
   "codemirror_mode": {
    "name": "ipython",
    "version": 3
   },
   "file_extension": ".py",
   "mimetype": "text/x-python",
   "name": "python",
   "nbconvert_exporter": "python",
   "pygments_lexer": "ipython3",
   "version": "3.7.12"
  },
  "papermill": {
   "default_parameters": {},
   "duration": 5142.370571,
   "end_time": "2022-06-28T16:54:20.246597",
   "environment_variables": {},
   "exception": null,
   "input_path": "__notebook__.ipynb",
   "output_path": "__notebook__.ipynb",
   "parameters": {},
   "start_time": "2022-06-28T15:28:37.876026",
   "version": "2.3.4"
  }
 },
 "nbformat": 4,
 "nbformat_minor": 5
}
