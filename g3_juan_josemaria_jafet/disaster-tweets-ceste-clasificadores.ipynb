{
 "cells": [
  {
   "cell_type": "markdown",
   "id": "763ac800",
   "metadata": {
    "papermill": {
     "duration": 0.0105,
     "end_time": "2022-06-28T14:00:31.883477",
     "exception": false,
     "start_time": "2022-06-28T14:00:31.872977",
     "status": "completed"
    },
    "tags": []
   },
   "source": [
    "## Importing libraries"
   ]
  },
  {
   "cell_type": "code",
   "execution_count": 1,
   "id": "b19cfe6a",
   "metadata": {
    "execution": {
     "iopub.execute_input": "2022-06-28T14:00:31.903437Z",
     "iopub.status.busy": "2022-06-28T14:00:31.902521Z",
     "iopub.status.idle": "2022-06-28T14:00:39.808419Z",
     "shell.execute_reply": "2022-06-28T14:00:39.807361Z"
    },
    "papermill": {
     "duration": 7.919848,
     "end_time": "2022-06-28T14:00:39.811170",
     "exception": false,
     "start_time": "2022-06-28T14:00:31.891322",
     "status": "completed"
    },
    "tags": []
   },
   "outputs": [],
   "source": [
    "import pandas as pd\n",
    "import numpy as np\n",
    "import matplotlib.pyplot as plt\n",
    "import nltk\n",
    "import tensorflow as tf\n",
    "from tensorflow import keras\n",
    "from sklearn.model_selection import train_test_split\n",
    "from sklearn.preprocessing import LabelEncoder\n",
    "from sklearn import feature_extraction, model_selection, metrics\n",
    "from sklearn import naive_bayes, tree, linear_model\n",
    "import xgboost"
   ]
  },
  {
   "cell_type": "markdown",
   "id": "f7b4a396",
   "metadata": {
    "papermill": {
     "duration": 0.007444,
     "end_time": "2022-06-28T14:00:39.826487",
     "exception": false,
     "start_time": "2022-06-28T14:00:39.819043",
     "status": "completed"
    },
    "tags": []
   },
   "source": [
    "## Loading and checking train data"
   ]
  },
  {
   "cell_type": "code",
   "execution_count": 2,
   "id": "3b05c703",
   "metadata": {
    "execution": {
     "iopub.execute_input": "2022-06-28T14:00:39.844175Z",
     "iopub.status.busy": "2022-06-28T14:00:39.842930Z",
     "iopub.status.idle": "2022-06-28T14:00:39.908598Z",
     "shell.execute_reply": "2022-06-28T14:00:39.907484Z"
    },
    "papermill": {
     "duration": 0.077405,
     "end_time": "2022-06-28T14:00:39.911573",
     "exception": false,
     "start_time": "2022-06-28T14:00:39.834168",
     "status": "completed"
    },
    "tags": []
   },
   "outputs": [
    {
     "name": "stdout",
     "output_type": "stream",
     "text": [
      "38065\n"
     ]
    },
    {
     "data": {
      "text/html": [
       "<div>\n",
       "<style scoped>\n",
       "    .dataframe tbody tr th:only-of-type {\n",
       "        vertical-align: middle;\n",
       "    }\n",
       "\n",
       "    .dataframe tbody tr th {\n",
       "        vertical-align: top;\n",
       "    }\n",
       "\n",
       "    .dataframe thead th {\n",
       "        text-align: right;\n",
       "    }\n",
       "</style>\n",
       "<table border=\"1\" class=\"dataframe\">\n",
       "  <thead>\n",
       "    <tr style=\"text-align: right;\">\n",
       "      <th></th>\n",
       "      <th>id</th>\n",
       "      <th>keyword</th>\n",
       "      <th>location</th>\n",
       "      <th>text</th>\n",
       "      <th>target</th>\n",
       "    </tr>\n",
       "  </thead>\n",
       "  <tbody>\n",
       "    <tr>\n",
       "      <th>0</th>\n",
       "      <td>1</td>\n",
       "      <td>NaN</td>\n",
       "      <td>NaN</td>\n",
       "      <td>Our Deeds are the Reason of this #earthquake M...</td>\n",
       "      <td>1</td>\n",
       "    </tr>\n",
       "    <tr>\n",
       "      <th>1</th>\n",
       "      <td>4</td>\n",
       "      <td>NaN</td>\n",
       "      <td>NaN</td>\n",
       "      <td>Forest fire near La Ronge Sask. Canada</td>\n",
       "      <td>1</td>\n",
       "    </tr>\n",
       "    <tr>\n",
       "      <th>2</th>\n",
       "      <td>5</td>\n",
       "      <td>NaN</td>\n",
       "      <td>NaN</td>\n",
       "      <td>All residents asked to 'shelter in place' are ...</td>\n",
       "      <td>1</td>\n",
       "    </tr>\n",
       "    <tr>\n",
       "      <th>3</th>\n",
       "      <td>6</td>\n",
       "      <td>NaN</td>\n",
       "      <td>NaN</td>\n",
       "      <td>13,000 people receive #wildfires evacuation or...</td>\n",
       "      <td>1</td>\n",
       "    </tr>\n",
       "    <tr>\n",
       "      <th>4</th>\n",
       "      <td>7</td>\n",
       "      <td>NaN</td>\n",
       "      <td>NaN</td>\n",
       "      <td>Just got sent this photo from Ruby #Alaska as ...</td>\n",
       "      <td>1</td>\n",
       "    </tr>\n",
       "    <tr>\n",
       "      <th>5</th>\n",
       "      <td>8</td>\n",
       "      <td>NaN</td>\n",
       "      <td>NaN</td>\n",
       "      <td>#RockyFire Update =&gt; California Hwy. 20 closed...</td>\n",
       "      <td>1</td>\n",
       "    </tr>\n",
       "    <tr>\n",
       "      <th>6</th>\n",
       "      <td>10</td>\n",
       "      <td>NaN</td>\n",
       "      <td>NaN</td>\n",
       "      <td>#flood #disaster Heavy rain causes flash flood...</td>\n",
       "      <td>1</td>\n",
       "    </tr>\n",
       "    <tr>\n",
       "      <th>7</th>\n",
       "      <td>13</td>\n",
       "      <td>NaN</td>\n",
       "      <td>NaN</td>\n",
       "      <td>I'm on top of the hill and I can see a fire in...</td>\n",
       "      <td>1</td>\n",
       "    </tr>\n",
       "    <tr>\n",
       "      <th>8</th>\n",
       "      <td>14</td>\n",
       "      <td>NaN</td>\n",
       "      <td>NaN</td>\n",
       "      <td>There's an emergency evacuation happening now ...</td>\n",
       "      <td>1</td>\n",
       "    </tr>\n",
       "    <tr>\n",
       "      <th>9</th>\n",
       "      <td>15</td>\n",
       "      <td>NaN</td>\n",
       "      <td>NaN</td>\n",
       "      <td>I'm afraid that the tornado is coming to our a...</td>\n",
       "      <td>1</td>\n",
       "    </tr>\n",
       "  </tbody>\n",
       "</table>\n",
       "</div>"
      ],
      "text/plain": [
       "   id keyword location                                               text  \\\n",
       "0   1     NaN      NaN  Our Deeds are the Reason of this #earthquake M...   \n",
       "1   4     NaN      NaN             Forest fire near La Ronge Sask. Canada   \n",
       "2   5     NaN      NaN  All residents asked to 'shelter in place' are ...   \n",
       "3   6     NaN      NaN  13,000 people receive #wildfires evacuation or...   \n",
       "4   7     NaN      NaN  Just got sent this photo from Ruby #Alaska as ...   \n",
       "5   8     NaN      NaN  #RockyFire Update => California Hwy. 20 closed...   \n",
       "6  10     NaN      NaN  #flood #disaster Heavy rain causes flash flood...   \n",
       "7  13     NaN      NaN  I'm on top of the hill and I can see a fire in...   \n",
       "8  14     NaN      NaN  There's an emergency evacuation happening now ...   \n",
       "9  15     NaN      NaN  I'm afraid that the tornado is coming to our a...   \n",
       "\n",
       "   target  \n",
       "0       1  \n",
       "1       1  \n",
       "2       1  \n",
       "3       1  \n",
       "4       1  \n",
       "5       1  \n",
       "6       1  \n",
       "7       1  \n",
       "8       1  \n",
       "9       1  "
      ]
     },
     "execution_count": 2,
     "metadata": {},
     "output_type": "execute_result"
    }
   ],
   "source": [
    "#Loading and checking train data\n",
    "\n",
    "train = pd.read_csv(\"/kaggle/input/nlp-getting-started/train.csv\")\n",
    "print(train.size)\n",
    "train.head(10)"
   ]
  },
  {
   "cell_type": "code",
   "execution_count": 3,
   "id": "e985964c",
   "metadata": {
    "execution": {
     "iopub.execute_input": "2022-06-28T14:00:39.930075Z",
     "iopub.status.busy": "2022-06-28T14:00:39.929399Z",
     "iopub.status.idle": "2022-06-28T14:00:39.961526Z",
     "shell.execute_reply": "2022-06-28T14:00:39.960289Z"
    },
    "papermill": {
     "duration": 0.043874,
     "end_time": "2022-06-28T14:00:39.963636",
     "exception": false,
     "start_time": "2022-06-28T14:00:39.919762",
     "status": "completed"
    },
    "tags": []
   },
   "outputs": [
    {
     "name": "stdout",
     "output_type": "stream",
     "text": [
      "13052\n"
     ]
    },
    {
     "data": {
      "text/html": [
       "<div>\n",
       "<style scoped>\n",
       "    .dataframe tbody tr th:only-of-type {\n",
       "        vertical-align: middle;\n",
       "    }\n",
       "\n",
       "    .dataframe tbody tr th {\n",
       "        vertical-align: top;\n",
       "    }\n",
       "\n",
       "    .dataframe thead th {\n",
       "        text-align: right;\n",
       "    }\n",
       "</style>\n",
       "<table border=\"1\" class=\"dataframe\">\n",
       "  <thead>\n",
       "    <tr style=\"text-align: right;\">\n",
       "      <th></th>\n",
       "      <th>id</th>\n",
       "      <th>keyword</th>\n",
       "      <th>location</th>\n",
       "      <th>text</th>\n",
       "    </tr>\n",
       "  </thead>\n",
       "  <tbody>\n",
       "    <tr>\n",
       "      <th>0</th>\n",
       "      <td>0</td>\n",
       "      <td>NaN</td>\n",
       "      <td>NaN</td>\n",
       "      <td>Just happened a terrible car crash</td>\n",
       "    </tr>\n",
       "    <tr>\n",
       "      <th>1</th>\n",
       "      <td>2</td>\n",
       "      <td>NaN</td>\n",
       "      <td>NaN</td>\n",
       "      <td>Heard about #earthquake is different cities, s...</td>\n",
       "    </tr>\n",
       "    <tr>\n",
       "      <th>2</th>\n",
       "      <td>3</td>\n",
       "      <td>NaN</td>\n",
       "      <td>NaN</td>\n",
       "      <td>there is a forest fire at spot pond, geese are...</td>\n",
       "    </tr>\n",
       "    <tr>\n",
       "      <th>3</th>\n",
       "      <td>9</td>\n",
       "      <td>NaN</td>\n",
       "      <td>NaN</td>\n",
       "      <td>Apocalypse lighting. #Spokane #wildfires</td>\n",
       "    </tr>\n",
       "    <tr>\n",
       "      <th>4</th>\n",
       "      <td>11</td>\n",
       "      <td>NaN</td>\n",
       "      <td>NaN</td>\n",
       "      <td>Typhoon Soudelor kills 28 in China and Taiwan</td>\n",
       "    </tr>\n",
       "    <tr>\n",
       "      <th>5</th>\n",
       "      <td>12</td>\n",
       "      <td>NaN</td>\n",
       "      <td>NaN</td>\n",
       "      <td>We're shaking...It's an earthquake</td>\n",
       "    </tr>\n",
       "    <tr>\n",
       "      <th>6</th>\n",
       "      <td>21</td>\n",
       "      <td>NaN</td>\n",
       "      <td>NaN</td>\n",
       "      <td>They'd probably still show more life than Arse...</td>\n",
       "    </tr>\n",
       "    <tr>\n",
       "      <th>7</th>\n",
       "      <td>22</td>\n",
       "      <td>NaN</td>\n",
       "      <td>NaN</td>\n",
       "      <td>Hey! How are you?</td>\n",
       "    </tr>\n",
       "    <tr>\n",
       "      <th>8</th>\n",
       "      <td>27</td>\n",
       "      <td>NaN</td>\n",
       "      <td>NaN</td>\n",
       "      <td>What a nice hat?</td>\n",
       "    </tr>\n",
       "    <tr>\n",
       "      <th>9</th>\n",
       "      <td>29</td>\n",
       "      <td>NaN</td>\n",
       "      <td>NaN</td>\n",
       "      <td>Fuck off!</td>\n",
       "    </tr>\n",
       "  </tbody>\n",
       "</table>\n",
       "</div>"
      ],
      "text/plain": [
       "   id keyword location                                               text\n",
       "0   0     NaN      NaN                 Just happened a terrible car crash\n",
       "1   2     NaN      NaN  Heard about #earthquake is different cities, s...\n",
       "2   3     NaN      NaN  there is a forest fire at spot pond, geese are...\n",
       "3   9     NaN      NaN           Apocalypse lighting. #Spokane #wildfires\n",
       "4  11     NaN      NaN      Typhoon Soudelor kills 28 in China and Taiwan\n",
       "5  12     NaN      NaN                 We're shaking...It's an earthquake\n",
       "6  21     NaN      NaN  They'd probably still show more life than Arse...\n",
       "7  22     NaN      NaN                                  Hey! How are you?\n",
       "8  27     NaN      NaN                                   What a nice hat?\n",
       "9  29     NaN      NaN                                          Fuck off!"
      ]
     },
     "execution_count": 3,
     "metadata": {},
     "output_type": "execute_result"
    }
   ],
   "source": [
    "#Loading and checking test data\n",
    "\n",
    "test = pd.read_csv(\"/kaggle/input/nlp-getting-started/test.csv\")\n",
    "print(test.size)\n",
    "test.head(10)"
   ]
  },
  {
   "cell_type": "markdown",
   "id": "7cf5b396",
   "metadata": {
    "papermill": {
     "duration": 0.008089,
     "end_time": "2022-06-28T14:00:39.980042",
     "exception": false,
     "start_time": "2022-06-28T14:00:39.971953",
     "status": "completed"
    },
    "tags": []
   },
   "source": [
    "## Data Exploration"
   ]
  },
  {
   "cell_type": "code",
   "execution_count": 4,
   "id": "e863e652",
   "metadata": {
    "execution": {
     "iopub.execute_input": "2022-06-28T14:00:39.998655Z",
     "iopub.status.busy": "2022-06-28T14:00:39.997955Z",
     "iopub.status.idle": "2022-06-28T14:00:40.016949Z",
     "shell.execute_reply": "2022-06-28T14:00:40.015352Z"
    },
    "papermill": {
     "duration": 0.030878,
     "end_time": "2022-06-28T14:00:40.019237",
     "exception": false,
     "start_time": "2022-06-28T14:00:39.988359",
     "status": "completed"
    },
    "tags": []
   },
   "outputs": [
    {
     "name": "stdout",
     "output_type": "stream",
     "text": [
      "7613\n",
      "7503\n"
     ]
    }
   ],
   "source": [
    "#Removing duplicates from train data\n",
    "\n",
    "print(len(train))\n",
    "train = train.drop_duplicates('text')\n",
    "print(len(train))"
   ]
  },
  {
   "cell_type": "code",
   "execution_count": 5,
   "id": "a4149363",
   "metadata": {
    "execution": {
     "iopub.execute_input": "2022-06-28T14:00:40.038032Z",
     "iopub.status.busy": "2022-06-28T14:00:40.037342Z",
     "iopub.status.idle": "2022-06-28T14:00:40.243869Z",
     "shell.execute_reply": "2022-06-28T14:00:40.242994Z"
    },
    "papermill": {
     "duration": 0.218207,
     "end_time": "2022-06-28T14:00:40.245892",
     "exception": false,
     "start_time": "2022-06-28T14:00:40.027685",
     "status": "completed"
    },
    "tags": []
   },
   "outputs": [
    {
     "data": {
      "image/png": "[encoded data removed]",
      "text/plain": [
       "<Figure size 432x288 with 1 Axes>"
      ]
     },
     "metadata": {
      "needs_background": "light"
     },
     "output_type": "display_data"
    }
   ],
   "source": [
    "#Checking distribution of falses and positives in train data\n",
    "\n",
    "plt.title('Train dataset')\n",
    "plt.xlabel('Distribution')\n",
    "plt.ylabel('Samples')\n",
    "plt.hist(train.target)\n",
    "plt.show()"
   ]
  },
  {
   "cell_type": "code",
   "execution_count": 6,
   "id": "2eb11c21",
   "metadata": {
    "execution": {
     "iopub.execute_input": "2022-06-28T14:00:40.264374Z",
     "iopub.status.busy": "2022-06-28T14:00:40.263966Z",
     "iopub.status.idle": "2022-06-28T14:00:40.666022Z",
     "shell.execute_reply": "2022-06-28T14:00:40.665026Z"
    },
    "papermill": {
     "duration": 0.413621,
     "end_time": "2022-06-28T14:00:40.668007",
     "exception": false,
     "start_time": "2022-06-28T14:00:40.254386",
     "status": "completed"
    },
    "tags": []
   },
   "outputs": [
    {
     "data": {
      "image/png": "[encoded data removed]",
      "text/plain": [
       "<Figure size 432x288 with 1 Axes>"
      ]
     },
     "metadata": {
      "needs_background": "light"
     },
     "output_type": "display_data"
    },
    {
     "data": {
      "image/png": "[encoded data removed]",
      "text/plain": [
       "<Figure size 432x288 with 1 Axes>"
      ]
     },
     "metadata": {
      "needs_background": "light"
     },
     "output_type": "display_data"
    }
   ],
   "source": [
    "#Exploring test and train tweet lengths for possible useful information\n",
    "\n",
    "tweet_lengths_train=map(lambda x:len(x),train['text'])\n",
    "plt.title('Train data tweet length')\n",
    "plt.hist(list(tweet_lengths_train))\n",
    "plt.show()\n",
    "\n",
    "tweet_lengths_test=map(lambda x:len(x),test['text'])\n",
    "plt.title('Test data tweet length')\n",
    "plt.hist(list(tweet_lengths_test))\n",
    "plt.show()"
   ]
  },
  {
   "cell_type": "code",
   "execution_count": 7,
   "id": "2efc4b07",
   "metadata": {
    "execution": {
     "iopub.execute_input": "2022-06-28T14:00:40.688094Z",
     "iopub.status.busy": "2022-06-28T14:00:40.687637Z",
     "iopub.status.idle": "2022-06-28T14:00:44.319496Z",
     "shell.execute_reply": "2022-06-28T14:00:44.318541Z"
    },
    "papermill": {
     "duration": 3.647473,
     "end_time": "2022-06-28T14:00:44.324482",
     "exception": false,
     "start_time": "2022-06-28T14:00:40.677009",
     "status": "completed"
    },
    "tags": []
   },
   "outputs": [
    {
     "data": {
      "text/plain": [
       "<AxesSubplot:xlabel='count', ylabel='keyword'>"
      ]
     },
     "execution_count": 7,
     "metadata": {},
     "output_type": "execute_result"
    },
    {
     "data": {
      "image/png": "[encoded data removed]",
      "text/plain": [
       "<Figure size 1080x7200 with 1 Axes>"
      ]
     },
     "metadata": {
      "needs_background": "light"
     },
     "output_type": "display_data"
    }
   ],
   "source": [
    "import seaborn as sns\n",
    "\n",
    "#Exploring the keyword column in train dataset\n",
    "\n",
    "plt.figure(figsize=(15,100))\n",
    "sns.countplot(data=train, y='keyword', hue='target')"
   ]
  },
  {
   "cell_type": "markdown",
   "id": "036d739b",
   "metadata": {
    "papermill": {
     "duration": 0.011985,
     "end_time": "2022-06-28T14:00:44.348588",
     "exception": false,
     "start_time": "2022-06-28T14:00:44.336603",
     "status": "completed"
    },
    "tags": []
   },
   "source": [
    "## Data preprocessing"
   ]
  },
  {
   "cell_type": "code",
   "execution_count": 8,
   "id": "71da5a9f",
   "metadata": {
    "execution": {
     "iopub.execute_input": "2022-06-28T14:00:44.375453Z",
     "iopub.status.busy": "2022-06-28T14:00:44.374834Z",
     "iopub.status.idle": "2022-06-28T14:00:44.392020Z",
     "shell.execute_reply": "2022-06-28T14:00:44.391086Z"
    },
    "papermill": {
     "duration": 0.033003,
     "end_time": "2022-06-28T14:00:44.394073",
     "exception": false,
     "start_time": "2022-06-28T14:00:44.361070",
     "status": "completed"
    },
    "tags": []
   },
   "outputs": [
    {
     "data": {
      "text/html": [
       "<div>\n",
       "<style scoped>\n",
       "    .dataframe tbody tr th:only-of-type {\n",
       "        vertical-align: middle;\n",
       "    }\n",
       "\n",
       "    .dataframe tbody tr th {\n",
       "        vertical-align: top;\n",
       "    }\n",
       "\n",
       "    .dataframe thead th {\n",
       "        text-align: right;\n",
       "    }\n",
       "</style>\n",
       "<table border=\"1\" class=\"dataframe\">\n",
       "  <thead>\n",
       "    <tr style=\"text-align: right;\">\n",
       "      <th></th>\n",
       "      <th>id</th>\n",
       "      <th>keyword</th>\n",
       "      <th>location</th>\n",
       "      <th>text</th>\n",
       "      <th>target</th>\n",
       "    </tr>\n",
       "  </thead>\n",
       "  <tbody>\n",
       "    <tr>\n",
       "      <th>0</th>\n",
       "      <td>1</td>\n",
       "      <td>NaN</td>\n",
       "      <td>NaN</td>\n",
       "      <td>Our Deeds are the Reason of this earthquake Ma...</td>\n",
       "      <td>1</td>\n",
       "    </tr>\n",
       "    <tr>\n",
       "      <th>1</th>\n",
       "      <td>4</td>\n",
       "      <td>NaN</td>\n",
       "      <td>NaN</td>\n",
       "      <td>Forest fire near La Ronge Sask. Canada</td>\n",
       "      <td>1</td>\n",
       "    </tr>\n",
       "    <tr>\n",
       "      <th>2</th>\n",
       "      <td>5</td>\n",
       "      <td>NaN</td>\n",
       "      <td>NaN</td>\n",
       "      <td>All residents asked to 'shelter in place' are ...</td>\n",
       "      <td>1</td>\n",
       "    </tr>\n",
       "    <tr>\n",
       "      <th>3</th>\n",
       "      <td>6</td>\n",
       "      <td>NaN</td>\n",
       "      <td>NaN</td>\n",
       "      <td>13,000 people receive wildfires evacuation ord...</td>\n",
       "      <td>1</td>\n",
       "    </tr>\n",
       "    <tr>\n",
       "      <th>4</th>\n",
       "      <td>7</td>\n",
       "      <td>NaN</td>\n",
       "      <td>NaN</td>\n",
       "      <td>Just got sent this photo from Ruby Alaska as s...</td>\n",
       "      <td>1</td>\n",
       "    </tr>\n",
       "    <tr>\n",
       "      <th>5</th>\n",
       "      <td>8</td>\n",
       "      <td>NaN</td>\n",
       "      <td>NaN</td>\n",
       "      <td>RockyFire Update =&gt; California Hwy. 20 closed ...</td>\n",
       "      <td>1</td>\n",
       "    </tr>\n",
       "    <tr>\n",
       "      <th>6</th>\n",
       "      <td>10</td>\n",
       "      <td>NaN</td>\n",
       "      <td>NaN</td>\n",
       "      <td>flood disaster Heavy rain causes flash floodin...</td>\n",
       "      <td>1</td>\n",
       "    </tr>\n",
       "    <tr>\n",
       "      <th>7</th>\n",
       "      <td>13</td>\n",
       "      <td>NaN</td>\n",
       "      <td>NaN</td>\n",
       "      <td>I'm on top of the hill and I can see a fire in...</td>\n",
       "      <td>1</td>\n",
       "    </tr>\n",
       "    <tr>\n",
       "      <th>8</th>\n",
       "      <td>14</td>\n",
       "      <td>NaN</td>\n",
       "      <td>NaN</td>\n",
       "      <td>There's an emergency evacuation happening now ...</td>\n",
       "      <td>1</td>\n",
       "    </tr>\n",
       "    <tr>\n",
       "      <th>9</th>\n",
       "      <td>15</td>\n",
       "      <td>NaN</td>\n",
       "      <td>NaN</td>\n",
       "      <td>I'm afraid that the tornado is coming to our a...</td>\n",
       "      <td>1</td>\n",
       "    </tr>\n",
       "  </tbody>\n",
       "</table>\n",
       "</div>"
      ],
      "text/plain": [
       "   id keyword location                                               text  \\\n",
       "0   1     NaN      NaN  Our Deeds are the Reason of this earthquake Ma...   \n",
       "1   4     NaN      NaN             Forest fire near La Ronge Sask. Canada   \n",
       "2   5     NaN      NaN  All residents asked to 'shelter in place' are ...   \n",
       "3   6     NaN      NaN  13,000 people receive wildfires evacuation ord...   \n",
       "4   7     NaN      NaN  Just got sent this photo from Ruby Alaska as s...   \n",
       "5   8     NaN      NaN  RockyFire Update => California Hwy. 20 closed ...   \n",
       "6  10     NaN      NaN  flood disaster Heavy rain causes flash floodin...   \n",
       "7  13     NaN      NaN  I'm on top of the hill and I can see a fire in...   \n",
       "8  14     NaN      NaN  There's an emergency evacuation happening now ...   \n",
       "9  15     NaN      NaN  I'm afraid that the tornado is coming to our a...   \n",
       "\n",
       "   target  \n",
       "0       1  \n",
       "1       1  \n",
       "2       1  \n",
       "3       1  \n",
       "4       1  \n",
       "5       1  \n",
       "6       1  \n",
       "7       1  \n",
       "8       1  \n",
       "9       1  "
      ]
     },
     "execution_count": 8,
     "metadata": {},
     "output_type": "execute_result"
    }
   ],
   "source": [
    "#Removing hashtags\n",
    "\n",
    "train['text'] = train['text'].str.replace(\"#\", \"\").replace(\"_\", \" \")\n",
    "\n",
    "train.head(10)"
   ]
  },
  {
   "cell_type": "code",
   "execution_count": 9,
   "id": "ae0e8bb3",
   "metadata": {
    "execution": {
     "iopub.execute_input": "2022-06-28T14:00:44.420668Z",
     "iopub.status.busy": "2022-06-28T14:00:44.420138Z",
     "iopub.status.idle": "2022-06-28T14:00:55.842391Z",
     "shell.execute_reply": "2022-06-28T14:00:55.841161Z"
    },
    "papermill": {
     "duration": 11.438308,
     "end_time": "2022-06-28T14:00:55.844859",
     "exception": false,
     "start_time": "2022-06-28T14:00:44.406551",
     "status": "completed"
    },
    "tags": []
   },
   "outputs": [
    {
     "name": "stdout",
     "output_type": "stream",
     "text": [
      "Collecting tweet-preprocessor\r\n",
      "  Downloading tweet_preprocessor-0.6.0-py3-none-any.whl (27 kB)\r\n",
      "Installing collected packages: tweet-preprocessor\r\n",
      "Successfully installed tweet-preprocessor-0.6.0\r\n",
      "\u001b[33mWARNING: Running pip as the 'root' user can result in broken permissions and conflicting behaviour with the system package manager. It is recommended to use a virtual environment instead: https://pip.pypa.io/warnings/venv\u001b[0m\u001b[33m\r\n",
      "\u001b[0m"
     ]
    }
   ],
   "source": [
    "#Installing preprocessor\n",
    "\n",
    "!pip install tweet-preprocessor"
   ]
  },
  {
   "cell_type": "code",
   "execution_count": 10,
   "id": "1df5fc8f",
   "metadata": {
    "execution": {
     "iopub.execute_input": "2022-06-28T14:00:55.871972Z",
     "iopub.status.busy": "2022-06-28T14:00:55.871522Z",
     "iopub.status.idle": "2022-06-28T14:00:55.892751Z",
     "shell.execute_reply": "2022-06-28T14:00:55.891990Z"
    },
    "papermill": {
     "duration": 0.037389,
     "end_time": "2022-06-28T14:00:55.895045",
     "exception": false,
     "start_time": "2022-06-28T14:00:55.857656",
     "status": "completed"
    },
    "tags": []
   },
   "outputs": [],
   "source": [
    "#Importing preprocessor and defining preprocess function\n",
    "\n",
    "import preprocessor as p\n",
    "\n",
    "def preprocess_tweet(row):\n",
    "    text = row['text']\n",
    "    text = p.clean(text)\n",
    "    return text"
   ]
  },
  {
   "cell_type": "code",
   "execution_count": 11,
   "id": "034357e6",
   "metadata": {
    "execution": {
     "iopub.execute_input": "2022-06-28T14:00:55.923107Z",
     "iopub.status.busy": "2022-06-28T14:00:55.922396Z",
     "iopub.status.idle": "2022-06-28T14:00:56.783970Z",
     "shell.execute_reply": "2022-06-28T14:00:56.782948Z"
    },
    "papermill": {
     "duration": 0.877393,
     "end_time": "2022-06-28T14:00:56.786007",
     "exception": false,
     "start_time": "2022-06-28T14:00:55.908614",
     "status": "completed"
    },
    "tags": []
   },
   "outputs": [
    {
     "data": {
      "text/html": [
       "<div>\n",
       "<style scoped>\n",
       "    .dataframe tbody tr th:only-of-type {\n",
       "        vertical-align: middle;\n",
       "    }\n",
       "\n",
       "    .dataframe tbody tr th {\n",
       "        vertical-align: top;\n",
       "    }\n",
       "\n",
       "    .dataframe thead th {\n",
       "        text-align: right;\n",
       "    }\n",
       "</style>\n",
       "<table border=\"1\" class=\"dataframe\">\n",
       "  <thead>\n",
       "    <tr style=\"text-align: right;\">\n",
       "      <th></th>\n",
       "      <th>id</th>\n",
       "      <th>keyword</th>\n",
       "      <th>location</th>\n",
       "      <th>text</th>\n",
       "      <th>target</th>\n",
       "    </tr>\n",
       "  </thead>\n",
       "  <tbody>\n",
       "    <tr>\n",
       "      <th>0</th>\n",
       "      <td>1</td>\n",
       "      <td>NaN</td>\n",
       "      <td>NaN</td>\n",
       "      <td>Our Deeds are the Reason of this earthquake Ma...</td>\n",
       "      <td>1</td>\n",
       "    </tr>\n",
       "    <tr>\n",
       "      <th>1</th>\n",
       "      <td>4</td>\n",
       "      <td>NaN</td>\n",
       "      <td>NaN</td>\n",
       "      <td>Forest fire near La Ronge Sask. Canada</td>\n",
       "      <td>1</td>\n",
       "    </tr>\n",
       "    <tr>\n",
       "      <th>2</th>\n",
       "      <td>5</td>\n",
       "      <td>NaN</td>\n",
       "      <td>NaN</td>\n",
       "      <td>All residents asked to 'shelter in place' are ...</td>\n",
       "      <td>1</td>\n",
       "    </tr>\n",
       "    <tr>\n",
       "      <th>3</th>\n",
       "      <td>6</td>\n",
       "      <td>NaN</td>\n",
       "      <td>NaN</td>\n",
       "      <td>people receive wildfires evacuation orders in ...</td>\n",
       "      <td>1</td>\n",
       "    </tr>\n",
       "    <tr>\n",
       "      <th>4</th>\n",
       "      <td>7</td>\n",
       "      <td>NaN</td>\n",
       "      <td>NaN</td>\n",
       "      <td>Just got sent this photo from Ruby Alaska as s...</td>\n",
       "      <td>1</td>\n",
       "    </tr>\n",
       "    <tr>\n",
       "      <th>5</th>\n",
       "      <td>8</td>\n",
       "      <td>NaN</td>\n",
       "      <td>NaN</td>\n",
       "      <td>RockyFire Update =&gt; California Hwy. closed in ...</td>\n",
       "      <td>1</td>\n",
       "    </tr>\n",
       "    <tr>\n",
       "      <th>6</th>\n",
       "      <td>10</td>\n",
       "      <td>NaN</td>\n",
       "      <td>NaN</td>\n",
       "      <td>flood disaster Heavy rain causes flash floodin...</td>\n",
       "      <td>1</td>\n",
       "    </tr>\n",
       "    <tr>\n",
       "      <th>7</th>\n",
       "      <td>13</td>\n",
       "      <td>NaN</td>\n",
       "      <td>NaN</td>\n",
       "      <td>I'm on top of the hill and I can see a fire in...</td>\n",
       "      <td>1</td>\n",
       "    </tr>\n",
       "    <tr>\n",
       "      <th>8</th>\n",
       "      <td>14</td>\n",
       "      <td>NaN</td>\n",
       "      <td>NaN</td>\n",
       "      <td>There's an emergency evacuation happening now ...</td>\n",
       "      <td>1</td>\n",
       "    </tr>\n",
       "    <tr>\n",
       "      <th>9</th>\n",
       "      <td>15</td>\n",
       "      <td>NaN</td>\n",
       "      <td>NaN</td>\n",
       "      <td>I'm afraid that the tornado is coming to our a...</td>\n",
       "      <td>1</td>\n",
       "    </tr>\n",
       "  </tbody>\n",
       "</table>\n",
       "</div>"
      ],
      "text/plain": [
       "   id keyword location                                               text  \\\n",
       "0   1     NaN      NaN  Our Deeds are the Reason of this earthquake Ma...   \n",
       "1   4     NaN      NaN             Forest fire near La Ronge Sask. Canada   \n",
       "2   5     NaN      NaN  All residents asked to 'shelter in place' are ...   \n",
       "3   6     NaN      NaN  people receive wildfires evacuation orders in ...   \n",
       "4   7     NaN      NaN  Just got sent this photo from Ruby Alaska as s...   \n",
       "5   8     NaN      NaN  RockyFire Update => California Hwy. closed in ...   \n",
       "6  10     NaN      NaN  flood disaster Heavy rain causes flash floodin...   \n",
       "7  13     NaN      NaN  I'm on top of the hill and I can see a fire in...   \n",
       "8  14     NaN      NaN  There's an emergency evacuation happening now ...   \n",
       "9  15     NaN      NaN  I'm afraid that the tornado is coming to our a...   \n",
       "\n",
       "   target  \n",
       "0       1  \n",
       "1       1  \n",
       "2       1  \n",
       "3       1  \n",
       "4       1  \n",
       "5       1  \n",
       "6       1  \n",
       "7       1  \n",
       "8       1  \n",
       "9       1  "
      ]
     },
     "execution_count": 11,
     "metadata": {},
     "output_type": "execute_result"
    }
   ],
   "source": [
    "#Cleaning train dataset\n",
    "\n",
    "train['text'] = train.apply(preprocess_tweet, axis=1)\n",
    "\n",
    "train.head(10)"
   ]
  },
  {
   "cell_type": "code",
   "execution_count": 12,
   "id": "772c69c5",
   "metadata": {
    "execution": {
     "iopub.execute_input": "2022-06-28T14:00:56.813795Z",
     "iopub.status.busy": "2022-06-28T14:00:56.812923Z",
     "iopub.status.idle": "2022-06-28T14:00:56.817268Z",
     "shell.execute_reply": "2022-06-28T14:00:56.816204Z"
    },
    "papermill": {
     "duration": 0.020389,
     "end_time": "2022-06-28T14:00:56.819150",
     "exception": false,
     "start_time": "2022-06-28T14:00:56.798761",
     "status": "completed"
    },
    "tags": []
   },
   "outputs": [],
   "source": [
    "#Importing gensim library for stopwords removal and adding a function\n",
    "\n",
    "#from gensim.parsing.preprocessing import remove_stopwords\n",
    "\n",
    "#def stopword_removal(row):\n",
    "#    text = row['text']\n",
    "#    text = remove_stopwords(text)\n",
    "#    return text"
   ]
  },
  {
   "cell_type": "code",
   "execution_count": 13,
   "id": "146c02ef",
   "metadata": {
    "execution": {
     "iopub.execute_input": "2022-06-28T14:00:56.845587Z",
     "iopub.status.busy": "2022-06-28T14:00:56.845229Z",
     "iopub.status.idle": "2022-06-28T14:00:56.848818Z",
     "shell.execute_reply": "2022-06-28T14:00:56.847876Z"
    },
    "papermill": {
     "duration": 0.018906,
     "end_time": "2022-06-28T14:00:56.850587",
     "exception": false,
     "start_time": "2022-06-28T14:00:56.831681",
     "status": "completed"
    },
    "tags": []
   },
   "outputs": [],
   "source": [
    "#Applying function to remove stopwords\n",
    "\n",
    "#train['text'] = train.apply(stopword_removal, axis=1)\n",
    "\n",
    "#train.head(10)"
   ]
  },
  {
   "cell_type": "code",
   "execution_count": 14,
   "id": "fbf98c8c",
   "metadata": {
    "execution": {
     "iopub.execute_input": "2022-06-28T14:00:56.877205Z",
     "iopub.status.busy": "2022-06-28T14:00:56.876632Z",
     "iopub.status.idle": "2022-06-28T14:00:57.081811Z",
     "shell.execute_reply": "2022-06-28T14:00:57.080952Z"
    },
    "papermill": {
     "duration": 0.22073,
     "end_time": "2022-06-28T14:00:57.083713",
     "exception": false,
     "start_time": "2022-06-28T14:00:56.862983",
     "status": "completed"
    },
    "tags": []
   },
   "outputs": [
    {
     "data": {
      "text/html": [
       "<div>\n",
       "<style scoped>\n",
       "    .dataframe tbody tr th:only-of-type {\n",
       "        vertical-align: middle;\n",
       "    }\n",
       "\n",
       "    .dataframe tbody tr th {\n",
       "        vertical-align: top;\n",
       "    }\n",
       "\n",
       "    .dataframe thead th {\n",
       "        text-align: right;\n",
       "    }\n",
       "</style>\n",
       "<table border=\"1\" class=\"dataframe\">\n",
       "  <thead>\n",
       "    <tr style=\"text-align: right;\">\n",
       "      <th></th>\n",
       "      <th>id</th>\n",
       "      <th>keyword</th>\n",
       "      <th>location</th>\n",
       "      <th>text</th>\n",
       "      <th>target</th>\n",
       "    </tr>\n",
       "  </thead>\n",
       "  <tbody>\n",
       "    <tr>\n",
       "      <th>0</th>\n",
       "      <td>1</td>\n",
       "      <td>NaN</td>\n",
       "      <td>NaN</td>\n",
       "      <td>Our Deeds Reason earthquake May ALLAH Forgive us</td>\n",
       "      <td>1</td>\n",
       "    </tr>\n",
       "    <tr>\n",
       "      <th>1</th>\n",
       "      <td>4</td>\n",
       "      <td>NaN</td>\n",
       "      <td>NaN</td>\n",
       "      <td>Forest fire near La Ronge Sask. Canada</td>\n",
       "      <td>1</td>\n",
       "    </tr>\n",
       "    <tr>\n",
       "      <th>2</th>\n",
       "      <td>5</td>\n",
       "      <td>NaN</td>\n",
       "      <td>NaN</td>\n",
       "      <td>All residents asked 'shelter place' notified o...</td>\n",
       "      <td>1</td>\n",
       "    </tr>\n",
       "    <tr>\n",
       "      <th>3</th>\n",
       "      <td>6</td>\n",
       "      <td>NaN</td>\n",
       "      <td>NaN</td>\n",
       "      <td>people receive wildfires evacuation orders Cal...</td>\n",
       "      <td>1</td>\n",
       "    </tr>\n",
       "    <tr>\n",
       "      <th>4</th>\n",
       "      <td>7</td>\n",
       "      <td>NaN</td>\n",
       "      <td>NaN</td>\n",
       "      <td>Just got sent photo Ruby Alaska smoke wildfire...</td>\n",
       "      <td>1</td>\n",
       "    </tr>\n",
       "    <tr>\n",
       "      <th>5</th>\n",
       "      <td>8</td>\n",
       "      <td>NaN</td>\n",
       "      <td>NaN</td>\n",
       "      <td>RockyFire Update =&gt; California Hwy. closed dir...</td>\n",
       "      <td>1</td>\n",
       "    </tr>\n",
       "    <tr>\n",
       "      <th>6</th>\n",
       "      <td>10</td>\n",
       "      <td>NaN</td>\n",
       "      <td>NaN</td>\n",
       "      <td>flood disaster Heavy rain causes flash floodin...</td>\n",
       "      <td>1</td>\n",
       "    </tr>\n",
       "    <tr>\n",
       "      <th>7</th>\n",
       "      <td>13</td>\n",
       "      <td>NaN</td>\n",
       "      <td>NaN</td>\n",
       "      <td>I'm top hill I see fire woods...</td>\n",
       "      <td>1</td>\n",
       "    </tr>\n",
       "    <tr>\n",
       "      <th>8</th>\n",
       "      <td>14</td>\n",
       "      <td>NaN</td>\n",
       "      <td>NaN</td>\n",
       "      <td>There's emergency evacuation happening buildin...</td>\n",
       "      <td>1</td>\n",
       "    </tr>\n",
       "    <tr>\n",
       "      <th>9</th>\n",
       "      <td>15</td>\n",
       "      <td>NaN</td>\n",
       "      <td>NaN</td>\n",
       "      <td>I'm afraid tornado coming area...</td>\n",
       "      <td>1</td>\n",
       "    </tr>\n",
       "  </tbody>\n",
       "</table>\n",
       "</div>"
      ],
      "text/plain": [
       "   id keyword location                                               text  \\\n",
       "0   1     NaN      NaN   Our Deeds Reason earthquake May ALLAH Forgive us   \n",
       "1   4     NaN      NaN             Forest fire near La Ronge Sask. Canada   \n",
       "2   5     NaN      NaN  All residents asked 'shelter place' notified o...   \n",
       "3   6     NaN      NaN  people receive wildfires evacuation orders Cal...   \n",
       "4   7     NaN      NaN  Just got sent photo Ruby Alaska smoke wildfire...   \n",
       "5   8     NaN      NaN  RockyFire Update => California Hwy. closed dir...   \n",
       "6  10     NaN      NaN  flood disaster Heavy rain causes flash floodin...   \n",
       "7  13     NaN      NaN                   I'm top hill I see fire woods...   \n",
       "8  14     NaN      NaN  There's emergency evacuation happening buildin...   \n",
       "9  15     NaN      NaN                  I'm afraid tornado coming area...   \n",
       "\n",
       "   target  \n",
       "0       1  \n",
       "1       1  \n",
       "2       1  \n",
       "3       1  \n",
       "4       1  \n",
       "5       1  \n",
       "6       1  \n",
       "7       1  \n",
       "8       1  \n",
       "9       1  "
      ]
     },
     "execution_count": 14,
     "metadata": {},
     "output_type": "execute_result"
    }
   ],
   "source": [
    "#Removing stopwords using nltk\n",
    "\n",
    "from nltk.corpus import stopwords\n",
    "stop = stopwords.words('english')\n",
    "\n",
    "train['text'] = train['text'].apply(lambda x: ' '.join([word for word in x.split() if word not in (stop)]))\n",
    "\n",
    "train.head(10)"
   ]
  },
  {
   "cell_type": "code",
   "execution_count": 15,
   "id": "251f9988",
   "metadata": {
    "execution": {
     "iopub.execute_input": "2022-06-28T14:00:57.110646Z",
     "iopub.status.busy": "2022-06-28T14:00:57.110263Z",
     "iopub.status.idle": "2022-06-28T14:00:57.155245Z",
     "shell.execute_reply": "2022-06-28T14:00:57.154400Z"
    },
    "papermill": {
     "duration": 0.061076,
     "end_time": "2022-06-28T14:00:57.157470",
     "exception": false,
     "start_time": "2022-06-28T14:00:57.096394",
     "status": "completed"
    },
    "tags": []
   },
   "outputs": [
    {
     "name": "stderr",
     "output_type": "stream",
     "text": [
      "/opt/conda/lib/python3.7/site-packages/ipykernel_launcher.py:3: FutureWarning: The default value of regex will change from True to False in a future version.\n",
      "  This is separate from the ipykernel package so we can avoid doing imports until\n"
     ]
    },
    {
     "data": {
      "text/html": [
       "<div>\n",
       "<style scoped>\n",
       "    .dataframe tbody tr th:only-of-type {\n",
       "        vertical-align: middle;\n",
       "    }\n",
       "\n",
       "    .dataframe tbody tr th {\n",
       "        vertical-align: top;\n",
       "    }\n",
       "\n",
       "    .dataframe thead th {\n",
       "        text-align: right;\n",
       "    }\n",
       "</style>\n",
       "<table border=\"1\" class=\"dataframe\">\n",
       "  <thead>\n",
       "    <tr style=\"text-align: right;\">\n",
       "      <th></th>\n",
       "      <th>id</th>\n",
       "      <th>keyword</th>\n",
       "      <th>location</th>\n",
       "      <th>text</th>\n",
       "      <th>target</th>\n",
       "    </tr>\n",
       "  </thead>\n",
       "  <tbody>\n",
       "    <tr>\n",
       "      <th>0</th>\n",
       "      <td>1</td>\n",
       "      <td>NaN</td>\n",
       "      <td>NaN</td>\n",
       "      <td>our deeds reason earthquake may allah forgive us</td>\n",
       "      <td>1</td>\n",
       "    </tr>\n",
       "    <tr>\n",
       "      <th>1</th>\n",
       "      <td>4</td>\n",
       "      <td>NaN</td>\n",
       "      <td>NaN</td>\n",
       "      <td>forest fire near la ronge sask canada</td>\n",
       "      <td>1</td>\n",
       "    </tr>\n",
       "    <tr>\n",
       "      <th>2</th>\n",
       "      <td>5</td>\n",
       "      <td>NaN</td>\n",
       "      <td>NaN</td>\n",
       "      <td>all residents asked shelter place notified off...</td>\n",
       "      <td>1</td>\n",
       "    </tr>\n",
       "    <tr>\n",
       "      <th>3</th>\n",
       "      <td>6</td>\n",
       "      <td>NaN</td>\n",
       "      <td>NaN</td>\n",
       "      <td>people receive wildfires evacuation orders cal...</td>\n",
       "      <td>1</td>\n",
       "    </tr>\n",
       "    <tr>\n",
       "      <th>4</th>\n",
       "      <td>7</td>\n",
       "      <td>NaN</td>\n",
       "      <td>NaN</td>\n",
       "      <td>just got sent photo ruby alaska smoke wildfire...</td>\n",
       "      <td>1</td>\n",
       "    </tr>\n",
       "    <tr>\n",
       "      <th>5</th>\n",
       "      <td>8</td>\n",
       "      <td>NaN</td>\n",
       "      <td>NaN</td>\n",
       "      <td>rockyfire update california hwy closed directi...</td>\n",
       "      <td>1</td>\n",
       "    </tr>\n",
       "    <tr>\n",
       "      <th>6</th>\n",
       "      <td>10</td>\n",
       "      <td>NaN</td>\n",
       "      <td>NaN</td>\n",
       "      <td>flood disaster heavy rain causes flash floodin...</td>\n",
       "      <td>1</td>\n",
       "    </tr>\n",
       "    <tr>\n",
       "      <th>7</th>\n",
       "      <td>13</td>\n",
       "      <td>NaN</td>\n",
       "      <td>NaN</td>\n",
       "      <td>i m top hill i see fire woods</td>\n",
       "      <td>1</td>\n",
       "    </tr>\n",
       "    <tr>\n",
       "      <th>8</th>\n",
       "      <td>14</td>\n",
       "      <td>NaN</td>\n",
       "      <td>NaN</td>\n",
       "      <td>there s emergency evacuation happening buildin...</td>\n",
       "      <td>1</td>\n",
       "    </tr>\n",
       "    <tr>\n",
       "      <th>9</th>\n",
       "      <td>15</td>\n",
       "      <td>NaN</td>\n",
       "      <td>NaN</td>\n",
       "      <td>i m afraid tornado coming area</td>\n",
       "      <td>1</td>\n",
       "    </tr>\n",
       "  </tbody>\n",
       "</table>\n",
       "</div>"
      ],
      "text/plain": [
       "   id keyword location                                               text  \\\n",
       "0   1     NaN      NaN   our deeds reason earthquake may allah forgive us   \n",
       "1   4     NaN      NaN              forest fire near la ronge sask canada   \n",
       "2   5     NaN      NaN  all residents asked shelter place notified off...   \n",
       "3   6     NaN      NaN  people receive wildfires evacuation orders cal...   \n",
       "4   7     NaN      NaN  just got sent photo ruby alaska smoke wildfire...   \n",
       "5   8     NaN      NaN  rockyfire update california hwy closed directi...   \n",
       "6  10     NaN      NaN  flood disaster heavy rain causes flash floodin...   \n",
       "7  13     NaN      NaN                     i m top hill i see fire woods    \n",
       "8  14     NaN      NaN  there s emergency evacuation happening buildin...   \n",
       "9  15     NaN      NaN                    i m afraid tornado coming area    \n",
       "\n",
       "   target  \n",
       "0       1  \n",
       "1       1  \n",
       "2       1  \n",
       "3       1  \n",
       "4       1  \n",
       "5       1  \n",
       "6       1  \n",
       "7       1  \n",
       "8       1  \n",
       "9       1  "
      ]
     },
     "execution_count": 15,
     "metadata": {},
     "output_type": "execute_result"
    }
   ],
   "source": [
    "#Removing extra white spaces and punctuation, and applying lowercase\n",
    "\n",
    "train['text'] = train['text'].str.lower().str.replace('[^\\w\\s]',' ').str.replace('\\s\\s+', ' ')\n",
    "\n",
    "train.head(10)"
   ]
  },
  {
   "cell_type": "markdown",
   "id": "2a473c8d",
   "metadata": {
    "papermill": {
     "duration": 0.012888,
     "end_time": "2022-06-28T14:00:57.183437",
     "exception": false,
     "start_time": "2022-06-28T14:00:57.170549",
     "status": "completed"
    },
    "tags": []
   },
   "source": [
    "### Preprocessing for Keras"
   ]
  },
  {
   "cell_type": "code",
   "execution_count": 16,
   "id": "de2cd355",
   "metadata": {
    "execution": {
     "iopub.execute_input": "2022-06-28T14:00:57.211676Z",
     "iopub.status.busy": "2022-06-28T14:00:57.211090Z",
     "iopub.status.idle": "2022-06-28T14:00:57.217796Z",
     "shell.execute_reply": "2022-06-28T14:00:57.216866Z"
    },
    "papermill": {
     "duration": 0.02401,
     "end_time": "2022-06-28T14:00:57.220642",
     "exception": false,
     "start_time": "2022-06-28T14:00:57.196632",
     "status": "completed"
    },
    "tags": []
   },
   "outputs": [
    {
     "name": "stdout",
     "output_type": "stream",
     "text": [
      "0     our deeds reason earthquake may allah forgive us\n",
      "1                forest fire near la ronge sask canada\n",
      "2    all residents asked shelter place notified off...\n",
      "3    people receive wildfires evacuation orders cal...\n",
      "4    just got sent photo ruby alaska smoke wildfire...\n",
      "5    rockyfire update california hwy closed directi...\n",
      "6    flood disaster heavy rain causes flash floodin...\n",
      "7                       i m top hill i see fire woods \n",
      "8    there s emergency evacuation happening buildin...\n",
      "9                      i m afraid tornado coming area \n",
      "Name: text, dtype: object\n",
      "0    1\n",
      "1    1\n",
      "2    1\n",
      "3    1\n",
      "4    1\n",
      "5    1\n",
      "6    1\n",
      "7    1\n",
      "8    1\n",
      "9    1\n",
      "Name: target, dtype: int64\n"
     ]
    }
   ],
   "source": [
    "#Removing columns which will not be used\n",
    "\n",
    "X = train['text']\n",
    "\n",
    "y = train['target']\n",
    "\n",
    "print(X.head(10))\n",
    "\n",
    "print(y.head(10))"
   ]
  },
  {
   "cell_type": "code",
   "execution_count": 17,
   "id": "b11ed9e7",
   "metadata": {
    "execution": {
     "iopub.execute_input": "2022-06-28T14:00:57.250527Z",
     "iopub.status.busy": "2022-06-28T14:00:57.249566Z",
     "iopub.status.idle": "2022-06-28T14:00:57.253814Z",
     "shell.execute_reply": "2022-06-28T14:00:57.253120Z"
    },
    "papermill": {
     "duration": 0.020829,
     "end_time": "2022-06-28T14:00:57.255817",
     "exception": false,
     "start_time": "2022-06-28T14:00:57.234988",
     "status": "completed"
    },
    "tags": []
   },
   "outputs": [],
   "source": [
    "#Tokenization\n",
    "\n",
    "#tokenizer = keras.preprocessing.text.Tokenizer()\n",
    "#tokenizer.fit_on_texts(X)\n",
    "#X = tokenizer.texts_to_sequences(X)\n",
    "\n",
    "#pd.DataFrame(X[:10])\n"
   ]
  },
  {
   "cell_type": "code",
   "execution_count": 18,
   "id": "f775afbf",
   "metadata": {
    "execution": {
     "iopub.execute_input": "2022-06-28T14:00:57.284286Z",
     "iopub.status.busy": "2022-06-28T14:00:57.283614Z",
     "iopub.status.idle": "2022-06-28T14:00:57.287533Z",
     "shell.execute_reply": "2022-06-28T14:00:57.286927Z"
    },
    "papermill": {
     "duration": 0.020248,
     "end_time": "2022-06-28T14:00:57.289268",
     "exception": false,
     "start_time": "2022-06-28T14:00:57.269020",
     "status": "completed"
    },
    "tags": []
   },
   "outputs": [],
   "source": [
    "#Padding\n",
    "\n",
    "#X = keras.preprocessing.sequence.pad_sequences(X, maxlen=20, padding=\"post\")\n",
    "\n",
    "#pd.DataFrame(X[:10])"
   ]
  },
  {
   "cell_type": "code",
   "execution_count": 19,
   "id": "232c4641",
   "metadata": {
    "execution": {
     "iopub.execute_input": "2022-06-28T14:00:57.317359Z",
     "iopub.status.busy": "2022-06-28T14:00:57.316630Z",
     "iopub.status.idle": "2022-06-28T14:00:57.423774Z",
     "shell.execute_reply": "2022-06-28T14:00:57.422889Z"
    },
    "papermill": {
     "duration": 0.123889,
     "end_time": "2022-06-28T14:00:57.426028",
     "exception": false,
     "start_time": "2022-06-28T14:00:57.302139",
     "status": "completed"
    },
    "tags": []
   },
   "outputs": [],
   "source": [
    "#Vectorizer\n",
    "\n",
    "from sklearn.feature_extraction.text import CountVectorizer\n",
    "\n",
    "vectorizer = CountVectorizer()\n",
    "X = vectorizer.fit_transform(train['text'])"
   ]
  },
  {
   "cell_type": "markdown",
   "id": "92305754",
   "metadata": {
    "papermill": {
     "duration": 0.013029,
     "end_time": "2022-06-28T14:00:57.452164",
     "exception": false,
     "start_time": "2022-06-28T14:00:57.439135",
     "status": "completed"
    },
    "tags": []
   },
   "source": [
    "### Wrapping up\n"
   ]
  },
  {
   "cell_type": "code",
   "execution_count": 20,
   "id": "a7edc245",
   "metadata": {
    "execution": {
     "iopub.execute_input": "2022-06-28T14:00:57.480620Z",
     "iopub.status.busy": "2022-06-28T14:00:57.479970Z",
     "iopub.status.idle": "2022-06-28T14:00:57.488480Z",
     "shell.execute_reply": "2022-06-28T14:00:57.487464Z"
    },
    "papermill": {
     "duration": 0.024985,
     "end_time": "2022-06-28T14:00:57.490509",
     "exception": false,
     "start_time": "2022-06-28T14:00:57.465524",
     "status": "completed"
    },
    "tags": []
   },
   "outputs": [],
   "source": [
    "from nltk.corpus import stopwords\n",
    "import preprocessor as p\n",
    "\n",
    "def preprocess_tweet(row):\n",
    "    text = row['text']\n",
    "    text = p.clean(text)\n",
    "    return text\n",
    "\n",
    "\n",
    "def process_x_dataframe(df):    \n",
    "    #Removing hashtags\n",
    "    train['text'] = train['text'].str.replace(\"#\", \"\").replace(\"_\", \" \")\n",
    "    \n",
    "    #Cleaning train dataset\n",
    "    train['text'] = train.apply(preprocess_tweet, axis=1)\n",
    "\n",
    "    #Removing stopwords using nltk\n",
    "    stop = stopwords.words('english')    \n",
    "    df['text'] = df['text'].apply(lambda x: ' '.join([word for word in x.split() if word not in (stop)]))\n",
    "\n",
    "    #Removing extra white spaces and punctuation, and applying lowercase\n",
    "    df['text'] = df['text'].str.lower().str.replace('[^\\w\\s]',' ').str.replace('\\s\\s+', ' ')\n",
    "    \n",
    "    \n",
    "    #Removing columns which will not be used\n",
    "    X = df['text']\n",
    "\n",
    "    #Tokenization\n",
    "    tokenizer = keras.preprocessing.text.Tokenizer()\n",
    "    tokenizer.fit_on_texts(X)\n",
    "    X = tokenizer.texts_to_sequences(X)\n",
    "    \n",
    "    \n",
    "    #Padding\n",
    "    X = keras.preprocessing.sequence.pad_sequences(X, maxlen=20, padding=\"post\")\n",
    "    return X"
   ]
  },
  {
   "cell_type": "markdown",
   "id": "3613d969",
   "metadata": {
    "papermill": {
     "duration": 0.012802,
     "end_time": "2022-06-28T14:00:57.516437",
     "exception": false,
     "start_time": "2022-06-28T14:00:57.503635",
     "status": "completed"
    },
    "tags": []
   },
   "source": [
    "## Building and testing models"
   ]
  },
  {
   "cell_type": "code",
   "execution_count": 21,
   "id": "c246d9ce",
   "metadata": {
    "execution": {
     "iopub.execute_input": "2022-06-28T14:00:57.544824Z",
     "iopub.status.busy": "2022-06-28T14:00:57.543885Z",
     "iopub.status.idle": "2022-06-28T14:00:57.554024Z",
     "shell.execute_reply": "2022-06-28T14:00:57.552840Z"
    },
    "papermill": {
     "duration": 0.026307,
     "end_time": "2022-06-28T14:00:57.555817",
     "exception": false,
     "start_time": "2022-06-28T14:00:57.529510",
     "status": "completed"
    },
    "tags": []
   },
   "outputs": [
    {
     "name": "stdout",
     "output_type": "stream",
     "text": [
      "(6002, 14694)\n",
      "(1501, 14694)\n"
     ]
    }
   ],
   "source": [
    "#Split into train and test slices\n",
    "\n",
    "X_train, X_test, y_train, y_test = train_test_split(X, y, test_size=0.2, random_state=13)\n",
    "\n",
    "print(X_train.shape)\n",
    "\n",
    "print(X_test.shape)"
   ]
  },
  {
   "cell_type": "markdown",
   "id": "05f90fec",
   "metadata": {
    "papermill": {
     "duration": 0.012898,
     "end_time": "2022-06-28T14:00:57.582036",
     "exception": false,
     "start_time": "2022-06-28T14:00:57.569138",
     "status": "completed"
    },
    "tags": []
   },
   "source": [
    "## Ridge Classifier"
   ]
  },
  {
   "cell_type": "code",
   "execution_count": 22,
   "id": "9f5de459",
   "metadata": {
    "execution": {
     "iopub.execute_input": "2022-06-28T14:00:57.610665Z",
     "iopub.status.busy": "2022-06-28T14:00:57.609854Z",
     "iopub.status.idle": "2022-06-28T14:00:57.943594Z",
     "shell.execute_reply": "2022-06-28T14:00:57.942583Z"
    },
    "papermill": {
     "duration": 0.350241,
     "end_time": "2022-06-28T14:00:57.945629",
     "exception": false,
     "start_time": "2022-06-28T14:00:57.595388",
     "status": "completed"
    },
    "tags": []
   },
   "outputs": [
    {
     "name": "stdout",
     "output_type": "stream",
     "text": [
      "train accuracy: 0.9843385538153949 \n",
      " test accuracy: 0.7781479013990673\n",
      "\n",
      "\n",
      "classification report for Ridge Classifier\n",
      "              precision    recall  f1-score   support\n",
      "\n",
      "           0       0.78      0.85      0.81       852\n",
      "           1       0.78      0.69      0.73       649\n",
      "\n",
      "    accuracy                           0.78      1501\n",
      "   macro avg       0.78      0.77      0.77      1501\n",
      "weighted avg       0.78      0.78      0.78      1501\n",
      "\n",
      "\n",
      "\n",
      "confusion matrix for ridge classifier\n"
     ]
    },
    {
     "data": {
      "text/plain": [
       "<sklearn.metrics._plot.confusion_matrix.ConfusionMatrixDisplay at 0x7fdc51b2f950>"
      ]
     },
     "execution_count": 22,
     "metadata": {},
     "output_type": "execute_result"
    },
    {
     "data": {
      "image/png": "[encoded data removed]",
      "text/plain": [
       "<Figure size 432x288 with 2 Axes>"
      ]
     },
     "metadata": {
      "needs_background": "light"
     },
     "output_type": "display_data"
    }
   ],
   "source": [
    "from sklearn import linear_model, metrics\n",
    "\n",
    "rc = linear_model.RidgeClassifier()\n",
    "model0 = rc.fit(X_train, y_train)\n",
    "print(\"train accuracy:\",model0.score(X_train, y_train),\"\\n\",\"test accuracy:\",model0.score(X_test,y_test))\n",
    "\n",
    "rcpred = rc.predict(X_test)\n",
    "print(\"\\n\")\n",
    "print(\"classification report for Ridge Classifier\")\n",
    "print(metrics.classification_report(y_test,rcpred))\n",
    "print(\"\\n\")\n",
    "print(\"confusion matrix for ridge classifier\")\n",
    "metrics.ConfusionMatrixDisplay.from_estimator(rc, X_test, y_test,cmap=\"Greens\")"
   ]
  },
  {
   "cell_type": "markdown",
   "id": "264c7824",
   "metadata": {
    "papermill": {
     "duration": 0.013497,
     "end_time": "2022-06-28T14:00:57.972767",
     "exception": false,
     "start_time": "2022-06-28T14:00:57.959270",
     "status": "completed"
    },
    "tags": []
   },
   "source": [
    "## Logistic Regression"
   ]
  },
  {
   "cell_type": "code",
   "execution_count": 23,
   "id": "da5e2582",
   "metadata": {
    "execution": {
     "iopub.execute_input": "2022-06-28T14:00:58.001676Z",
     "iopub.status.busy": "2022-06-28T14:00:58.001261Z",
     "iopub.status.idle": "2022-06-28T14:00:59.013827Z",
     "shell.execute_reply": "2022-06-28T14:00:59.012791Z"
    },
    "papermill": {
     "duration": 1.031971,
     "end_time": "2022-06-28T14:00:59.018319",
     "exception": false,
     "start_time": "2022-06-28T14:00:57.986348",
     "status": "completed"
    },
    "tags": []
   },
   "outputs": [
    {
     "name": "stdout",
     "output_type": "stream",
     "text": [
      "train accuracy: 0.9580139953348884 \n",
      " test accuracy: 0.7941372418387741\n",
      "\n",
      "\n",
      "classification report for Logistic Regression\n",
      "              precision    recall  f1-score   support\n",
      "\n",
      "           0       0.79      0.86      0.83       852\n",
      "           1       0.80      0.70      0.75       649\n",
      "\n",
      "    accuracy                           0.79      1501\n",
      "   macro avg       0.79      0.78      0.79      1501\n",
      "weighted avg       0.79      0.79      0.79      1501\n",
      "\n",
      "\n",
      "\n",
      "confusion matrix for logistic regression\n"
     ]
    },
    {
     "data": {
      "text/plain": [
       "<sklearn.metrics._plot.confusion_matrix.ConfusionMatrixDisplay at 0x7fdc51a13fd0>"
      ]
     },
     "execution_count": 23,
     "metadata": {},
     "output_type": "execute_result"
    },
    {
     "data": {
      "image/png": "[encoded data removed]",
      "text/plain": [
       "<Figure size 432x288 with 2 Axes>"
      ]
     },
     "metadata": {
      "needs_background": "light"
     },
     "output_type": "display_data"
    }
   ],
   "source": [
    "lr = linear_model.LogisticRegression(max_iter = 2000,penalty = 'l2')\n",
    "model1 = lr.fit(X_train, y_train)\n",
    "print(\"train accuracy:\",model1.score(X_train, y_train),\"\\n\",\"test accuracy:\",model1.score(X_test,y_test))\n",
    "lrpred = lr.predict(X_test)\n",
    "print(\"\\n\")\n",
    "print(\"classification report for Logistic Regression\")\n",
    "print(metrics.classification_report(y_test,lrpred))\n",
    "print(\"\\n\")\n",
    "print(\"confusion matrix for logistic regression\")\n",
    "metrics.ConfusionMatrixDisplay.from_estimator(lr, X_test, y_test,cmap=\"Greens\")"
   ]
  },
  {
   "cell_type": "markdown",
   "id": "f1a4cd3e",
   "metadata": {
    "papermill": {
     "duration": 0.01425,
     "end_time": "2022-06-28T14:00:59.052088",
     "exception": false,
     "start_time": "2022-06-28T14:00:59.037838",
     "status": "completed"
    },
    "tags": []
   },
   "source": [
    "## XGB"
   ]
  },
  {
   "cell_type": "code",
   "execution_count": 24,
   "id": "9058f897",
   "metadata": {
    "execution": {
     "iopub.execute_input": "2022-06-28T14:00:59.083546Z",
     "iopub.status.busy": "2022-06-28T14:00:59.082681Z",
     "iopub.status.idle": "2022-06-28T14:01:00.619535Z",
     "shell.execute_reply": "2022-06-28T14:01:00.618825Z"
    },
    "papermill": {
     "duration": 1.554923,
     "end_time": "2022-06-28T14:01:00.621503",
     "exception": false,
     "start_time": "2022-06-28T14:00:59.066580",
     "status": "completed"
    },
    "tags": []
   },
   "outputs": [
    {
     "name": "stdout",
     "output_type": "stream",
     "text": [
      "train accuracy: 0.8352215928023992 \n",
      " test accuracy: 0.7854763491005996\n",
      "\n",
      "\n",
      "classification report for XGB\n",
      "              precision    recall  f1-score   support\n",
      "\n",
      "           0       0.76      0.91      0.83       852\n",
      "           1       0.84      0.62      0.72       649\n",
      "\n",
      "    accuracy                           0.79      1501\n",
      "   macro avg       0.80      0.77      0.77      1501\n",
      "weighted avg       0.79      0.79      0.78      1501\n",
      "\n",
      "\n",
      "\n",
      "confusion matrix for XGB\n"
     ]
    },
    {
     "data": {
      "text/plain": [
       "<sklearn.metrics._plot.confusion_matrix.ConfusionMatrixDisplay at 0x7fdbfcaac110>"
      ]
     },
     "execution_count": 24,
     "metadata": {},
     "output_type": "execute_result"
    },
    {
     "data": {
      "image/png": "[encoded data removed]",
      "text/plain": [
       "<Figure size 432x288 with 2 Axes>"
      ]
     },
     "metadata": {
      "needs_background": "light"
     },
     "output_type": "display_data"
    }
   ],
   "source": [
    "xgb = xgboost.XGBClassifier()\n",
    "model2 = xgb.fit(X_train, y_train)\n",
    "print(\"train accuracy:\",model2.score(X_train, y_train),\"\\n\",\"test accuracy:\",model2.score(X_test,y_test))\n",
    "xgbpred = xgb.predict(X_test)\n",
    "print(\"\\n\")\n",
    "print(\"classification report for XGB\")\n",
    "print(metrics.classification_report(y_test,xgbpred))\n",
    "print(\"\\n\")\n",
    "print(\"confusion matrix for XGB\")\n",
    "metrics.ConfusionMatrixDisplay.from_estimator(lr, X_test, y_test,cmap=\"Greens\")"
   ]
  },
  {
   "cell_type": "markdown",
   "id": "60341e83",
   "metadata": {
    "papermill": {
     "duration": 0.01427,
     "end_time": "2022-06-28T14:01:00.650525",
     "exception": false,
     "start_time": "2022-06-28T14:01:00.636255",
     "status": "completed"
    },
    "tags": []
   },
   "source": [
    "## Bernouilli NB"
   ]
  },
  {
   "cell_type": "code",
   "execution_count": 25,
   "id": "7fa2d4d4",
   "metadata": {
    "execution": {
     "iopub.execute_input": "2022-06-28T14:01:00.682042Z",
     "iopub.status.busy": "2022-06-28T14:01:00.681386Z",
     "iopub.status.idle": "2022-06-28T14:01:00.903031Z",
     "shell.execute_reply": "2022-06-28T14:01:00.902034Z"
    },
    "papermill": {
     "duration": 0.239924,
     "end_time": "2022-06-28T14:01:00.905150",
     "exception": false,
     "start_time": "2022-06-28T14:01:00.665226",
     "status": "completed"
    },
    "tags": []
   },
   "outputs": [
    {
     "name": "stdout",
     "output_type": "stream",
     "text": [
      "train accuracy: 0.8980339886704432 \n",
      " test accuracy: 0.8121252498334444\n",
      "\n",
      "\n",
      "classification report for Bernouilli NB\n",
      "              precision    recall  f1-score   support\n",
      "\n",
      "           0       0.79      0.92      0.85       852\n",
      "           1       0.86      0.67      0.76       649\n",
      "\n",
      "    accuracy                           0.81      1501\n",
      "   macro avg       0.82      0.80      0.80      1501\n",
      "weighted avg       0.82      0.81      0.81      1501\n",
      "\n",
      "\n",
      "\n",
      "confusion matrix for Bernouilli NB\n"
     ]
    },
    {
     "data": {
      "text/plain": [
       "<sklearn.metrics._plot.confusion_matrix.ConfusionMatrixDisplay at 0x7fdbfcb7c1d0>"
      ]
     },
     "execution_count": 25,
     "metadata": {},
     "output_type": "execute_result"
    },
    {
     "data": {
      "image/png": "[encoded data removed]",
      "text/plain": [
       "<Figure size 432x288 with 2 Axes>"
      ]
     },
     "metadata": {
      "needs_background": "light"
     },
     "output_type": "display_data"
    }
   ],
   "source": [
    "bernouilli_nb = naive_bayes.BernoulliNB()\n",
    "model3 = bernouilli_nb.fit(X_train, y_train)\n",
    "print(\"train accuracy:\",model3.score(X_train, y_train),\"\\n\",\"test accuracy:\",model3.score(X_test,y_test))\n",
    "bernouilli_nbpred = bernouilli_nb.predict(X_test)\n",
    "print(\"\\n\")\n",
    "print(\"classification report for Bernouilli NB\")\n",
    "print(metrics.classification_report(y_test,bernouilli_nbpred))\n",
    "print(\"\\n\")\n",
    "print(\"confusion matrix for Bernouilli NB\")\n",
    "metrics.ConfusionMatrixDisplay.from_estimator(bernouilli_nb, X_test, y_test,cmap=\"Greens\")"
   ]
  },
  {
   "cell_type": "markdown",
   "id": "e1e9d299",
   "metadata": {
    "papermill": {
     "duration": 0.040884,
     "end_time": "2022-06-28T14:01:00.961668",
     "exception": false,
     "start_time": "2022-06-28T14:01:00.920784",
     "status": "completed"
    },
    "tags": []
   },
   "source": [
    "## Gaussian NB"
   ]
  },
  {
   "cell_type": "code",
   "execution_count": 26,
   "id": "4ab81700",
   "metadata": {
    "execution": {
     "iopub.execute_input": "2022-06-28T14:01:00.994194Z",
     "iopub.status.busy": "2022-06-28T14:01:00.993539Z",
     "iopub.status.idle": "2022-06-28T14:01:05.265498Z",
     "shell.execute_reply": "2022-06-28T14:01:05.264770Z"
    },
    "papermill": {
     "duration": 4.290457,
     "end_time": "2022-06-28T14:01:05.267463",
     "exception": false,
     "start_time": "2022-06-28T14:01:00.977006",
     "status": "completed"
    },
    "tags": []
   },
   "outputs": [
    {
     "name": "stdout",
     "output_type": "stream",
     "text": [
      "train accuracy: 0.8980339886704432 \n",
      " test accuracy: 0.6175882744836776\n",
      "\n",
      "\n",
      "classification report for Gaussian NB\n",
      "              precision    recall  f1-score   support\n",
      "\n",
      "           0       0.77      0.47      0.58       852\n",
      "           1       0.54      0.82      0.65       649\n",
      "\n",
      "    accuracy                           0.62      1501\n",
      "   macro avg       0.65      0.64      0.61      1501\n",
      "weighted avg       0.67      0.62      0.61      1501\n",
      "\n",
      "\n",
      "\n",
      "confusion matrix for Gaussian NB\n"
     ]
    },
    {
     "data": {
      "text/plain": [
       "<sklearn.metrics._plot.confusion_matrix.ConfusionMatrixDisplay at 0x7fdbfca59cd0>"
      ]
     },
     "execution_count": 26,
     "metadata": {},
     "output_type": "execute_result"
    },
    {
     "data": {
      "image/png": "[encoded data removed]",
      "text/plain": [
       "<Figure size 432x288 with 2 Axes>"
      ]
     },
     "metadata": {
      "needs_background": "light"
     },
     "output_type": "display_data"
    }
   ],
   "source": [
    "gaussian_nb = naive_bayes.GaussianNB()\n",
    "model4 = gaussian_nb.fit(X_train.toarray(), y_train)\n",
    "print(\"train accuracy:\",model3.score(X_train.toarray(), y_train),\"\\n\",\"test accuracy:\",model4.score(X_test.toarray(),y_test))\n",
    "gaussian_nbpred = gaussian_nb.predict(X_test.toarray())\n",
    "print(\"\\n\")\n",
    "print(\"classification report for Gaussian NB\")\n",
    "print(metrics.classification_report(y_test,gaussian_nbpred))\n",
    "print(\"\\n\")\n",
    "print(\"confusion matrix for Gaussian NB\")\n",
    "metrics.ConfusionMatrixDisplay.from_estimator(gaussian_nb, X_test.toarray(), y_test,cmap=\"Greens\")"
   ]
  },
  {
   "cell_type": "markdown",
   "id": "86c3cfb3",
   "metadata": {
    "papermill": {
     "duration": 0.015381,
     "end_time": "2022-06-28T14:01:05.298072",
     "exception": false,
     "start_time": "2022-06-28T14:01:05.282691",
     "status": "completed"
    },
    "tags": []
   },
   "source": [
    "## Complement NB"
   ]
  },
  {
   "cell_type": "code",
   "execution_count": 27,
   "id": "8b08b4c1",
   "metadata": {
    "execution": {
     "iopub.execute_input": "2022-06-28T14:01:05.330948Z",
     "iopub.status.busy": "2022-06-28T14:01:05.330306Z",
     "iopub.status.idle": "2022-06-28T14:01:05.544620Z",
     "shell.execute_reply": "2022-06-28T14:01:05.543439Z"
    },
    "papermill": {
     "duration": 0.233321,
     "end_time": "2022-06-28T14:01:05.546798",
     "exception": false,
     "start_time": "2022-06-28T14:01:05.313477",
     "status": "completed"
    },
    "tags": []
   },
   "outputs": [
    {
     "name": "stdout",
     "output_type": "stream",
     "text": [
      "train accuracy: 0.9121959346884372 \n",
      " test accuracy: 0.798800799467022\n",
      "\n",
      "\n",
      "classification report for Complement NB\n",
      "              precision    recall  f1-score   support\n",
      "\n",
      "           0       0.81      0.84      0.83       852\n",
      "           1       0.78      0.75      0.76       649\n",
      "\n",
      "    accuracy                           0.80      1501\n",
      "   macro avg       0.80      0.79      0.79      1501\n",
      "weighted avg       0.80      0.80      0.80      1501\n",
      "\n",
      "\n",
      "\n",
      "confusion matrix for Complement NB\n"
     ]
    },
    {
     "data": {
      "text/plain": [
       "<sklearn.metrics._plot.confusion_matrix.ConfusionMatrixDisplay at 0x7fdbfc9fa190>"
      ]
     },
     "execution_count": 27,
     "metadata": {},
     "output_type": "execute_result"
    },
    {
     "data": {
      "image/png": "[encoded data removed]",
      "text/plain": [
       "<Figure size 432x288 with 2 Axes>"
      ]
     },
     "metadata": {
      "needs_background": "light"
     },
     "output_type": "display_data"
    }
   ],
   "source": [
    "complement_nb = naive_bayes.ComplementNB()\n",
    "model5 = complement_nb.fit(X_train, y_train)\n",
    "print(\"train accuracy:\",model5.score(X_train, y_train),\"\\n\",\"test accuracy:\",model5.score(X_test,y_test))\n",
    "complement_nbpred = complement_nb.predict(X_test)\n",
    "print(\"\\n\")\n",
    "print(\"classification report for Complement NB\")\n",
    "print(metrics.classification_report(y_test,complement_nbpred))\n",
    "print(\"\\n\")\n",
    "print(\"confusion matrix for Complement NB\")\n",
    "metrics.ConfusionMatrixDisplay.from_estimator(complement_nb, X_test, y_test,cmap=\"Greens\")"
   ]
  },
  {
   "cell_type": "markdown",
   "id": "6995bbd5",
   "metadata": {
    "papermill": {
     "duration": 0.015573,
     "end_time": "2022-06-28T14:01:05.578027",
     "exception": false,
     "start_time": "2022-06-28T14:01:05.562454",
     "status": "completed"
    },
    "tags": []
   },
   "source": [
    "## Decision Tree"
   ]
  },
  {
   "cell_type": "code",
   "execution_count": 28,
   "id": "293deaa8",
   "metadata": {
    "execution": {
     "iopub.execute_input": "2022-06-28T14:01:05.612139Z",
     "iopub.status.busy": "2022-06-28T14:01:05.611128Z",
     "iopub.status.idle": "2022-06-28T14:01:07.219890Z",
     "shell.execute_reply": "2022-06-28T14:01:07.218984Z"
    },
    "papermill": {
     "duration": 1.628034,
     "end_time": "2022-06-28T14:01:07.222023",
     "exception": false,
     "start_time": "2022-06-28T14:01:05.593989",
     "status": "completed"
    },
    "tags": []
   },
   "outputs": [
    {
     "name": "stdout",
     "output_type": "stream",
     "text": [
      "train accuracy: 0.9896701099633456 \n",
      " test accuracy: 0.7628247834776816\n",
      "\n",
      "\n",
      "classification report for Decision Tree\n",
      "              precision    recall  f1-score   support\n",
      "\n",
      "           0       0.79      0.80      0.79       852\n",
      "           1       0.73      0.71      0.72       649\n",
      "\n",
      "    accuracy                           0.76      1501\n",
      "   macro avg       0.76      0.76      0.76      1501\n",
      "weighted avg       0.76      0.76      0.76      1501\n",
      "\n",
      "\n",
      "\n",
      "confusion matrix for Decision Tree\n"
     ]
    },
    {
     "data": {
      "text/plain": [
       "<sklearn.metrics._plot.confusion_matrix.ConfusionMatrixDisplay at 0x7fdc50f3ce90>"
      ]
     },
     "execution_count": 28,
     "metadata": {},
     "output_type": "execute_result"
    },
    {
     "data": {
      "image/png": "[encoded data removed]",
      "text/plain": [
       "<Figure size 432x288 with 2 Axes>"
      ]
     },
     "metadata": {
      "needs_background": "light"
     },
     "output_type": "display_data"
    }
   ],
   "source": [
    "dectree = tree.DecisionTreeClassifier()\n",
    "model6 = dectree.fit(X_train, y_train)\n",
    "print(\"train accuracy:\",model6.score(X_train, y_train),\"\\n\",\"test accuracy:\",model6.score(X_test,y_test))\n",
    "dectreepred = dectree.predict(X_test)\n",
    "print(\"\\n\")\n",
    "print(\"classification report for Decision Tree\")\n",
    "print(metrics.classification_report(y_test,dectreepred))\n",
    "print(\"\\n\")\n",
    "print(\"confusion matrix for Decision Tree\")\n",
    "metrics.ConfusionMatrixDisplay.from_estimator(dectree, X_test, y_test,cmap=\"Greens\")"
   ]
  },
  {
   "cell_type": "markdown",
   "id": "27696cf4",
   "metadata": {
    "papermill": {
     "duration": 0.016061,
     "end_time": "2022-06-28T14:01:07.254044",
     "exception": false,
     "start_time": "2022-06-28T14:01:07.237983",
     "status": "completed"
    },
    "tags": []
   },
   "source": [
    "## Preparing submission"
   ]
  },
  {
   "cell_type": "code",
   "execution_count": 29,
   "id": "1cdf5306",
   "metadata": {
    "execution": {
     "iopub.execute_input": "2022-06-28T14:01:07.288888Z",
     "iopub.status.busy": "2022-06-28T14:01:07.287871Z",
     "iopub.status.idle": "2022-06-28T14:01:07.362275Z",
     "shell.execute_reply": "2022-06-28T14:01:07.361577Z"
    },
    "papermill": {
     "duration": 0.094209,
     "end_time": "2022-06-28T14:01:07.364238",
     "exception": false,
     "start_time": "2022-06-28T14:01:07.270029",
     "status": "completed"
    },
    "tags": []
   },
   "outputs": [
    {
     "data": {
      "text/html": [
       "<div>\n",
       "<style scoped>\n",
       "    .dataframe tbody tr th:only-of-type {\n",
       "        vertical-align: middle;\n",
       "    }\n",
       "\n",
       "    .dataframe tbody tr th {\n",
       "        vertical-align: top;\n",
       "    }\n",
       "\n",
       "    .dataframe thead th {\n",
       "        text-align: right;\n",
       "    }\n",
       "</style>\n",
       "<table border=\"1\" class=\"dataframe\">\n",
       "  <thead>\n",
       "    <tr style=\"text-align: right;\">\n",
       "      <th></th>\n",
       "      <th>id</th>\n",
       "      <th>target</th>\n",
       "    </tr>\n",
       "  </thead>\n",
       "  <tbody>\n",
       "    <tr>\n",
       "      <th>0</th>\n",
       "      <td>0</td>\n",
       "      <td>1</td>\n",
       "    </tr>\n",
       "    <tr>\n",
       "      <th>1</th>\n",
       "      <td>2</td>\n",
       "      <td>0</td>\n",
       "    </tr>\n",
       "    <tr>\n",
       "      <th>2</th>\n",
       "      <td>3</td>\n",
       "      <td>1</td>\n",
       "    </tr>\n",
       "    <tr>\n",
       "      <th>3</th>\n",
       "      <td>9</td>\n",
       "      <td>1</td>\n",
       "    </tr>\n",
       "    <tr>\n",
       "      <th>4</th>\n",
       "      <td>11</td>\n",
       "      <td>1</td>\n",
       "    </tr>\n",
       "    <tr>\n",
       "      <th>...</th>\n",
       "      <td>...</td>\n",
       "      <td>...</td>\n",
       "    </tr>\n",
       "    <tr>\n",
       "      <th>3258</th>\n",
       "      <td>10861</td>\n",
       "      <td>1</td>\n",
       "    </tr>\n",
       "    <tr>\n",
       "      <th>3259</th>\n",
       "      <td>10865</td>\n",
       "      <td>1</td>\n",
       "    </tr>\n",
       "    <tr>\n",
       "      <th>3260</th>\n",
       "      <td>10868</td>\n",
       "      <td>1</td>\n",
       "    </tr>\n",
       "    <tr>\n",
       "      <th>3261</th>\n",
       "      <td>10874</td>\n",
       "      <td>1</td>\n",
       "    </tr>\n",
       "    <tr>\n",
       "      <th>3262</th>\n",
       "      <td>10875</td>\n",
       "      <td>1</td>\n",
       "    </tr>\n",
       "  </tbody>\n",
       "</table>\n",
       "<p>3263 rows × 2 columns</p>\n",
       "</div>"
      ],
      "text/plain": [
       "         id  target\n",
       "0         0       1\n",
       "1         2       0\n",
       "2         3       1\n",
       "3         9       1\n",
       "4        11       1\n",
       "...     ...     ...\n",
       "3258  10861       1\n",
       "3259  10865       1\n",
       "3260  10868       1\n",
       "3261  10874       1\n",
       "3262  10875       1\n",
       "\n",
       "[3263 rows x 2 columns]"
      ]
     },
     "execution_count": 29,
     "metadata": {},
     "output_type": "execute_result"
    }
   ],
   "source": [
    "clf = naive_bayes.BernoulliNB()\n",
    "\n",
    "X_test = vectorizer.transform(test['text'])\n",
    "    \n",
    "# Fit & forecast\n",
    "clf.fit(X, y)\n",
    "y_pred = clf.predict(X_test)\n",
    "    \n",
    "# Export\n",
    "submission = pd.DataFrame(data={'id'   : test['id'], 'target': y_pred})\n",
    "submission.to_csv('submission.csv', index = False)\n",
    "submission = pd.read_csv('submission.csv')\n",
    "\n",
    "submission"
   ]
  }
 ],
 "metadata": {
  "kernelspec": {
   "display_name": "Python 3",
   "language": "python",
   "name": "python3"
  },
  "language_info": {
   "codemirror_mode": {
    "name": "ipython",
    "version": 3
   },
   "file_extension": ".py",
   "mimetype": "text/x-python",
   "name": "python",
   "nbconvert_exporter": "python",
   "pygments_lexer": "ipython3",
   "version": "3.7.12"
  },
  "papermill": {
   "default_parameters": {},
   "duration": 47.636393,
   "end_time": "2022-06-28T14:01:10.138834",
   "environment_variables": {},
   "exception": null,
   "input_path": "__notebook__.ipynb",
   "output_path": "__notebook__.ipynb",
   "parameters": {},
   "start_time": "2022-06-28T14:00:22.502441",
   "version": "2.3.4"
  }
 },
 "nbformat": 4,
 "nbformat_minor": 5
}
